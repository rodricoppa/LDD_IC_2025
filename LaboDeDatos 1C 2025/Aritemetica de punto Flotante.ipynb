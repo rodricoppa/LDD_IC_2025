{
 "cells": [
  {
   "cell_type": "code",
   "execution_count": 2,
   "id": "812cea47-c45d-47f0-a0c1-a79fe9ab3d72",
   "metadata": {},
   "outputs": [],
   "source": [
    "import numpy as np"
   ]
  },
  {
   "cell_type": "code",
   "execution_count": 46,
   "id": "0ccbe5ad-a19a-4d4e-8519-3f4b5f2e195e",
   "metadata": {},
   "outputs": [],
   "source": [
    "# Máquina epsilon\n",
    "eps = np.finfo(float).eps"
   ]
  },
  {
   "cell_type": "code",
   "execution_count": 10,
   "id": "73c1e7e4-7025-46e1-898d-799c93c1921d",
   "metadata": {},
   "outputs": [],
   "source": [
    "# Resultados\n",
    "resultados = {}"
   ]
  },
  {
   "cell_type": "code",
   "execution_count": 14,
   "id": "3b9667f1-0495-4fc1-bc43-1746d51fcd6f",
   "metadata": {},
   "outputs": [],
   "source": [
    "# a)\n",
    "p_a, q_a = 1e34, 1\n",
    "resultados['a'] = (p_a + q_a) - p_a"
   ]
  },
  {
   "cell_type": "code",
   "execution_count": 16,
   "id": "ecf99be0-173a-4cd6-819a-7046989c842f",
   "metadata": {},
   "outputs": [
    {
     "data": {
      "text/plain": [
       "{'a': 0.0}"
      ]
     },
     "execution_count": 16,
     "metadata": {},
     "output_type": "execute_result"
    }
   ],
   "source": [
    "resultados"
   ]
  },
  {
   "cell_type": "code",
   "execution_count": 24,
   "id": "3068baa3-2f74-41f4-878e-abdd78d51d3a",
   "metadata": {},
   "outputs": [],
   "source": [
    "# b)\n",
    "p_b, q_b = 100, 1e-15\n",
    "resultados['b1'] = (p_b + q_b) + q_b\n",
    "resultados['b2'] = ((p_b + q_b) + q_b) + q_b\n",
    "resultados['b3'] = p_b + 2 * q_b\n",
    "resultados['b4'] = p_b + 3 * q_b"
   ]
  },
  {
   "cell_type": "code",
   "execution_count": 26,
   "id": "ed2adeea-5f84-4248-9e7b-a0439552304b",
   "metadata": {},
   "outputs": [
    {
     "data": {
      "text/plain": [
       "{'a': 0.0, 'b1': 100.0, 'b2': 100.0, 'b3': 100.0, 'b4': 100.0}"
      ]
     },
     "execution_count": 26,
     "metadata": {},
     "output_type": "execute_result"
    }
   ],
   "source": [
    "resultados"
   ]
  },
  {
   "cell_type": "code",
   "execution_count": 30,
   "id": "654148ac-ca6d-4d35-9a09-f1f1b422f39f",
   "metadata": {},
   "outputs": [],
   "source": [
    "# c)\n",
    "resultados['c'] = 0.1 + 0.2 == 0.3"
   ]
  },
  {
   "cell_type": "code",
   "execution_count": 32,
   "id": "ca2ee7f9-fade-4ce3-b58b-31385ca22067",
   "metadata": {},
   "outputs": [
    {
     "data": {
      "text/plain": [
       "{'a': 0.0, 'b1': 100.0, 'b2': 100.0, 'b3': 100.0, 'b4': 100.0, 'c': False}"
      ]
     },
     "execution_count": 32,
     "metadata": {},
     "output_type": "execute_result"
    }
   ],
   "source": [
    "resultados"
   ]
  },
  {
   "cell_type": "code",
   "execution_count": 34,
   "id": "9a004764-4584-41f1-9b31-a107adc4a32f",
   "metadata": {},
   "outputs": [],
   "source": [
    "# d)\n",
    "resultados['d'] = 0.1 + 0.3 == 0.4"
   ]
  },
  {
   "cell_type": "code",
   "execution_count": 36,
   "id": "e1ab76c0-2548-459c-9680-f441bad684a8",
   "metadata": {},
   "outputs": [
    {
     "data": {
      "text/plain": [
       "{'a': 0.0,\n",
       " 'b1': 100.0,\n",
       " 'b2': 100.0,\n",
       " 'b3': 100.0,\n",
       " 'b4': 100.0,\n",
       " 'c': False,\n",
       " 'd': True}"
      ]
     },
     "execution_count": 36,
     "metadata": {},
     "output_type": "execute_result"
    }
   ],
   "source": [
    "resultados"
   ]
  },
  {
   "cell_type": "code",
   "execution_count": 38,
   "id": "2902062d-7d5b-49b6-afda-5f143ae2f20f",
   "metadata": {},
   "outputs": [],
   "source": [
    "# e) y f)\n",
    "resultados['e'] = 1e-323\n",
    "resultados['f'] = 1e-324"
   ]
  },
  {
   "cell_type": "code",
   "execution_count": 40,
   "id": "042d5280-2143-4182-a7dc-6af2c67ea78d",
   "metadata": {},
   "outputs": [
    {
     "data": {
      "text/plain": [
       "{'a': 0.0,\n",
       " 'b1': 100.0,\n",
       " 'b2': 100.0,\n",
       " 'b3': 100.0,\n",
       " 'b4': 100.0,\n",
       " 'c': False,\n",
       " 'd': True,\n",
       " 'e': 1e-323,\n",
       " 'f': 0.0}"
      ]
     },
     "execution_count": 40,
     "metadata": {},
     "output_type": "execute_result"
    }
   ],
   "source": [
    "resultados"
   ]
  },
  {
   "cell_type": "code",
   "execution_count": 48,
   "id": "11afa6cf-98ff-4615-81bc-06361def531a",
   "metadata": {},
   "outputs": [],
   "source": [
    "# g)\n",
    "resultados['g'] = eps / 2"
   ]
  },
  {
   "cell_type": "code",
   "execution_count": 52,
   "id": "55c81e22-f0a8-43fe-b648-0e892381873f",
   "metadata": {},
   "outputs": [
    {
     "data": {
      "text/plain": [
       "{'a': 0.0,\n",
       " 'b1': 100.0,\n",
       " 'b2': 100.0,\n",
       " 'b3': 100.0,\n",
       " 'b4': 100.0,\n",
       " 'c': False,\n",
       " 'd': True,\n",
       " 'e': 1e-323,\n",
       " 'f': 0.0,\n",
       " 'g': 1.1102230246251565e-16}"
      ]
     },
     "execution_count": 52,
     "metadata": {},
     "output_type": "execute_result"
    }
   ],
   "source": [
    "resultados"
   ]
  },
  {
   "cell_type": "code",
   "execution_count": 54,
   "id": "c11e7851-f946-42aa-aa16-ce7c6731052e",
   "metadata": {},
   "outputs": [],
   "source": [
    "# h)\n",
    "resultados['h'] = (1 + eps/2) + eps/2"
   ]
  },
  {
   "cell_type": "code",
   "execution_count": 56,
   "id": "e7721916-4c89-4e8d-82da-fa5ecbfb9850",
   "metadata": {},
   "outputs": [
    {
     "data": {
      "text/plain": [
       "{'a': 0.0,\n",
       " 'b1': 100.0,\n",
       " 'b2': 100.0,\n",
       " 'b3': 100.0,\n",
       " 'b4': 100.0,\n",
       " 'c': False,\n",
       " 'd': True,\n",
       " 'e': 1e-323,\n",
       " 'f': 0.0,\n",
       " 'g': 1.1102230246251565e-16,\n",
       " 'h': 1.0}"
      ]
     },
     "execution_count": 56,
     "metadata": {},
     "output_type": "execute_result"
    }
   ],
   "source": [
    "resultados"
   ]
  },
  {
   "cell_type": "code",
   "execution_count": 58,
   "id": "c14bf2cb-172e-45fb-b2a7-6e13127a20ae",
   "metadata": {},
   "outputs": [],
   "source": [
    "# i)\n",
    "resultados['i'] = 1 + (eps/2 + eps/2)"
   ]
  },
  {
   "cell_type": "code",
   "execution_count": 60,
   "id": "93c97480-4dcd-45eb-bf7d-4275c573f69b",
   "metadata": {},
   "outputs": [
    {
     "data": {
      "text/plain": [
       "{'a': 0.0,\n",
       " 'b1': 100.0,\n",
       " 'b2': 100.0,\n",
       " 'b3': 100.0,\n",
       " 'b4': 100.0,\n",
       " 'c': False,\n",
       " 'd': True,\n",
       " 'e': 1e-323,\n",
       " 'f': 0.0,\n",
       " 'g': 1.1102230246251565e-16,\n",
       " 'h': 1.0,\n",
       " 'i': 1.0000000000000002}"
      ]
     },
     "execution_count": 60,
     "metadata": {},
     "output_type": "execute_result"
    }
   ],
   "source": [
    "resultados"
   ]
  },
  {
   "cell_type": "code",
   "execution_count": 68,
   "id": "78d36958-9237-4fb8-ad82-155c7ff5e696",
   "metadata": {},
   "outputs": [],
   "source": [
    "# j)\n",
    "resultados['j'] = ((1 + eps/2) + eps/2) - 1"
   ]
  },
  {
   "cell_type": "code",
   "execution_count": 70,
   "id": "3ad3cb79-7fbd-4d7c-9866-b1c85fbb23e0",
   "metadata": {},
   "outputs": [
    {
     "data": {
      "text/plain": [
       "{'a': 0.0,\n",
       " 'b1': 100.0,\n",
       " 'b2': 100.0,\n",
       " 'b3': 100.0,\n",
       " 'b4': 100.0,\n",
       " 'c': False,\n",
       " 'd': True,\n",
       " 'e': 1e-323,\n",
       " 'f': 0.0,\n",
       " 'g': 1.1102230246251565e-16,\n",
       " 'h': 1.0,\n",
       " 'i': 1.0000000000000002,\n",
       " 'j': 0.0}"
      ]
     },
     "execution_count": 70,
     "metadata": {},
     "output_type": "execute_result"
    }
   ],
   "source": [
    "resultados"
   ]
  },
  {
   "cell_type": "code",
   "execution_count": 72,
   "id": "45d2bf3f-7510-4987-a2a2-b8a4377712ad",
   "metadata": {},
   "outputs": [],
   "source": [
    "# k)\n",
    "resultados['k'] = (1 + (eps/2 + eps/2)) - 1"
   ]
  },
  {
   "cell_type": "code",
   "execution_count": 75,
   "id": "553b4736-15b5-4a79-bfb7-11a85eaa47c0",
   "metadata": {},
   "outputs": [
    {
     "data": {
      "text/plain": [
       "{'a': 0.0,\n",
       " 'b1': 100.0,\n",
       " 'b2': 100.0,\n",
       " 'b3': 100.0,\n",
       " 'b4': 100.0,\n",
       " 'c': False,\n",
       " 'd': True,\n",
       " 'e': 1e-323,\n",
       " 'f': 0.0,\n",
       " 'g': 1.1102230246251565e-16,\n",
       " 'h': 1.0,\n",
       " 'i': 1.0000000000000002,\n",
       " 'j': 0.0,\n",
       " 'k': 2.220446049250313e-16}"
      ]
     },
     "execution_count": 75,
     "metadata": {},
     "output_type": "execute_result"
    }
   ],
   "source": [
    "resultados"
   ]
  },
  {
   "cell_type": "code",
   "execution_count": 77,
   "id": "5da8821b-2e9e-422a-aca5-d8de8dc888a1",
   "metadata": {},
   "outputs": [
    {
     "name": "stdout",
     "output_type": "stream",
     "text": [
      "2.220446049250313e-16\n"
     ]
    }
   ],
   "source": [
    "print(eps)"
   ]
  },
  {
   "cell_type": "code",
   "execution_count": 79,
   "id": "38063690-2875-412d-8670-9ebdd0ce9daa",
   "metadata": {},
   "outputs": [],
   "source": [
    "# l) sen(10^j * pi)\n",
    "resultados['l'] = [np.sin(10**j * np.pi) for j in range(1, 26)]"
   ]
  },
  {
   "cell_type": "code",
   "execution_count": 81,
   "id": "c6e6f342-04fc-438c-a909-d3d76864cac0",
   "metadata": {},
   "outputs": [
    {
     "data": {
      "text/plain": [
       "{'a': 0.0,\n",
       " 'b1': 100.0,\n",
       " 'b2': 100.0,\n",
       " 'b3': 100.0,\n",
       " 'b4': 100.0,\n",
       " 'c': False,\n",
       " 'd': True,\n",
       " 'e': 1e-323,\n",
       " 'f': 0.0,\n",
       " 'g': 1.1102230246251565e-16,\n",
       " 'h': 1.0,\n",
       " 'i': 1.0000000000000002,\n",
       " 'j': 0.0,\n",
       " 'k': 2.220446049250313e-16,\n",
       " 'l': [-1.2246467991473533e-15,\n",
       "  1.964386723728472e-15,\n",
       "  -3.2141664592756335e-13,\n",
       "  -4.85682353956849e-13,\n",
       "  -3.3960653996302193e-11,\n",
       "  -2.231912181360871e-10,\n",
       "  5.620555424855643e-10,\n",
       "  -3.9082928156687315e-08,\n",
       "  -3.3201412914529495e-08,\n",
       "  -2.2393627619559233e-06,\n",
       "  -1.4764233087791559e-05,\n",
       "  -0.00026971264011324254,\n",
       "  -0.0026971231637969895,\n",
       "  -0.011346020891205282,\n",
       "  -0.2362090532517409,\n",
       "  -0.3752128900123344,\n",
       "  -0.8479696810401983,\n",
       "  -0.6416534819105048,\n",
       "  0.7463367130158111,\n",
       "  -0.3940709604247648,\n",
       "  -0.5808054397535704,\n",
       "  -0.6886746870200211,\n",
       "  -0.7965162588457232,\n",
       "  0.9301407542552305,\n",
       "  0.9948086285918382]}"
      ]
     },
     "execution_count": 81,
     "metadata": {},
     "output_type": "execute_result"
    }
   ],
   "source": [
    "resultados"
   ]
  },
  {
   "cell_type": "code",
   "execution_count": 83,
   "id": "0839d76c-7cbf-4e40-a777-24eb2559a5b7",
   "metadata": {},
   "outputs": [],
   "source": [
    "# m) sen(pi/2 + pi*10^j)\n",
    "resultados['m'] = [np.sin(np.pi / 2 + np.pi * 10**j) for j in range(1, 26)]"
   ]
  },
  {
   "cell_type": "code",
   "execution_count": 85,
   "id": "40d69621-ccde-4c36-acdc-2f1bbff05952",
   "metadata": {},
   "outputs": [
    {
     "data": {
      "text/plain": [
       "{'a': 0.0,\n",
       " 'b1': 100.0,\n",
       " 'b2': 100.0,\n",
       " 'b3': 100.0,\n",
       " 'b4': 100.0,\n",
       " 'c': False,\n",
       " 'd': True,\n",
       " 'e': 1e-323,\n",
       " 'f': 0.0,\n",
       " 'g': 1.1102230246251565e-16,\n",
       " 'h': 1.0,\n",
       " 'i': 1.0000000000000002,\n",
       " 'j': 0.0,\n",
       " 'k': 2.220446049250313e-16,\n",
       " 'l': [-1.2246467991473533e-15,\n",
       "  1.964386723728472e-15,\n",
       "  -3.2141664592756335e-13,\n",
       "  -4.85682353956849e-13,\n",
       "  -3.3960653996302193e-11,\n",
       "  -2.231912181360871e-10,\n",
       "  5.620555424855643e-10,\n",
       "  -3.9082928156687315e-08,\n",
       "  -3.3201412914529495e-08,\n",
       "  -2.2393627619559233e-06,\n",
       "  -1.4764233087791559e-05,\n",
       "  -0.00026971264011324254,\n",
       "  -0.0026971231637969895,\n",
       "  -0.011346020891205282,\n",
       "  -0.2362090532517409,\n",
       "  -0.3752128900123344,\n",
       "  -0.8479696810401983,\n",
       "  -0.6416534819105048,\n",
       "  0.7463367130158111,\n",
       "  -0.3940709604247648,\n",
       "  -0.5808054397535704,\n",
       "  -0.6886746870200211,\n",
       "  -0.7965162588457232,\n",
       "  0.9301407542552305,\n",
       "  0.9948086285918382],\n",
       " 'm': [1.0,\n",
       "  1.0,\n",
       "  1.0,\n",
       "  1.0,\n",
       "  1.0,\n",
       "  1.0,\n",
       "  1.0,\n",
       "  0.9999999999999984,\n",
       "  0.9999999999999916,\n",
       "  0.9999999999987206,\n",
       "  0.9999999999468543,\n",
       "  0.999999964819047,\n",
       "  0.9999949407725442,\n",
       "  0.9998070905094508,\n",
       "  0.9525593659368664,\n",
       "  -0.3752128900123344,\n",
       "  -0.8479696810401983,\n",
       "  -0.6416534819105048,\n",
       "  0.7463367130158111,\n",
       "  -0.3940709604247648,\n",
       "  -0.5808054397535704,\n",
       "  -0.6886746870200211,\n",
       "  -0.7965162588457232,\n",
       "  0.9301407542552305,\n",
       "  0.9948086285918382]}"
      ]
     },
     "execution_count": 85,
     "metadata": {},
     "output_type": "execute_result"
    }
   ],
   "source": [
    "resultados"
   ]
  },
  {
   "cell_type": "code",
   "execution_count": 89,
   "id": "5ab90622-e8b6-4d39-b0c0-0a1705885248",
   "metadata": {},
   "outputs": [],
   "source": [
    "suma = 0\n",
    "for n in range(1, 10**8):\n",
    "    suma += 1/n"
   ]
  },
  {
   "cell_type": "code",
   "execution_count": 90,
   "id": "720ee5d2-336e-42a6-b73b-0465bc746c55",
   "metadata": {},
   "outputs": [
    {
     "data": {
      "text/plain": [
       "18.997896403852554"
      ]
     },
     "execution_count": 90,
     "metadata": {},
     "output_type": "execute_result"
    }
   ],
   "source": [
    "suma"
   ]
  },
  {
   "cell_type": "code",
   "execution_count": 93,
   "id": "70cf218c-67bf-4a81-ad94-d19affe3ad36",
   "metadata": {},
   "outputs": [
    {
     "name": "stdout",
     "output_type": "stream",
     "text": [
      "inf\n"
     ]
    }
   ],
   "source": [
    "suma = 1e308\n",
    "suma += 1e308\n",
    "print(suma)  # inf"
   ]
  },
  {
   "cell_type": "code",
   "execution_count": 95,
   "id": "4d90e4bf-e86a-4973-ac76-8650a1220365",
   "metadata": {},
   "outputs": [],
   "source": [
    "def suma_kahan(lista):\n",
    "    suma = 0.0\n",
    "    c = 0.0  # compensación\n",
    "    for x in lista:\n",
    "        y = x - c\n",
    "        t = suma + y\n",
    "        c = (t - suma) - y\n",
    "        suma = t\n",
    "    return suma"
   ]
  },
  {
   "cell_type": "code",
   "execution_count": 99,
   "id": "dbfd42fa-2ad0-4c46-94de-fa3d199a86a9",
   "metadata": {},
   "outputs": [
    {
     "name": "stdout",
     "output_type": "stream",
     "text": [
      "9.0\n"
     ]
    }
   ],
   "source": [
    "print(suma_kahan([4,5]))"
   ]
  },
  {
   "cell_type": "code",
   "execution_count": null,
   "id": "9d195ea4-1b6d-4754-97ce-c1140fc1fbb5",
   "metadata": {},
   "outputs": [],
   "source": []
  }
 ],
 "metadata": {
  "kernelspec": {
   "display_name": "Python [conda env:base] *",
   "language": "python",
   "name": "conda-base-py"
  },
  "language_info": {
   "codemirror_mode": {
    "name": "ipython",
    "version": 3
   },
   "file_extension": ".py",
   "mimetype": "text/x-python",
   "name": "python",
   "nbconvert_exporter": "python",
   "pygments_lexer": "ipython3",
   "version": "3.12.7"
  }
 },
 "nbformat": 4,
 "nbformat_minor": 5
}
