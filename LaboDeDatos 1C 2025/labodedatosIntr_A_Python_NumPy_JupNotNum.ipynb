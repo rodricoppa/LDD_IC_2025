{
 "cells": [
  {
   "cell_type": "code",
   "execution_count": 6,
   "id": "d942e86e-1c2b-434f-a46a-48382516b9b9",
   "metadata": {},
   "outputs": [
    {
     "data": {
      "text/plain": [
       "15"
      ]
     },
     "execution_count": 6,
     "metadata": {},
     "output_type": "execute_result"
    }
   ],
   "source": [
    "2+2\n",
    "3*5"
   ]
  },
  {
   "cell_type": "code",
   "execution_count": 141,
   "id": "ad4ae4a9-f3ee-473e-ae63-8c04489e85c8",
   "metadata": {},
   "outputs": [
    {
     "name": "stdout",
     "output_type": "stream",
     "text": [
      "4\n",
      "15\n"
     ]
    }
   ],
   "source": [
    "print(2+2)\n",
    "print(3*5)"
   ]
  },
  {
   "cell_type": "code",
   "execution_count": 95,
   "id": "adb769ba-03c4-4bde-ac3e-6c5376c13508",
   "metadata": {},
   "outputs": [
    {
     "name": "stdout",
     "output_type": "stream",
     "text": [
      "6\n"
     ]
    }
   ],
   "source": [
    "a = 5\n",
    "a = a+1\n",
    "print(a)"
   ]
  },
  {
   "cell_type": "code",
   "execution_count": 97,
   "id": "1bd5cff9-23f4-4d79-98cb-11ae972c2b3e",
   "metadata": {},
   "outputs": [
    {
     "name": "stdout",
     "output_type": "stream",
     "text": [
      "7\n"
     ]
    }
   ],
   "source": [
    "a = a+1\n",
    "print(a)"
   ]
  },
  {
   "cell_type": "code",
   "execution_count": 99,
   "id": "eca3ca64-231a-4d06-9a8e-988bb17888fb",
   "metadata": {},
   "outputs": [
    {
     "data": {
      "text/plain": [
       "4"
      ]
     },
     "execution_count": 99,
     "metadata": {},
     "output_type": "execute_result"
    }
   ],
   "source": [
    "2+2"
   ]
  },
  {
   "cell_type": "code",
   "execution_count": 48,
   "id": "81c6db0a-ae44-4e10-8584-6678b44b4f5e",
   "metadata": {},
   "outputs": [],
   "source": [
    "a = 2"
   ]
  },
  {
   "cell_type": "code",
   "execution_count": 53,
   "id": "0db0e493-caca-46b5-a560-bcb73946ab86",
   "metadata": {},
   "outputs": [],
   "source": [
    "b = 2"
   ]
  },
  {
   "cell_type": "code",
   "execution_count": 55,
   "id": "c9b60149-f1d9-43b0-968e-9c437b133df3",
   "metadata": {},
   "outputs": [
    {
     "data": {
      "text/plain": [
       "8"
      ]
     },
     "execution_count": 55,
     "metadata": {},
     "output_type": "execute_result"
    }
   ],
   "source": [
    "a**3"
   ]
  },
  {
   "cell_type": "code",
   "execution_count": 63,
   "id": "87fbda44-4c9a-4b37-bb1a-7bdccd646c44",
   "metadata": {},
   "outputs": [
    {
     "data": {
      "text/plain": [
       "3"
      ]
     },
     "execution_count": 63,
     "metadata": {},
     "output_type": "execute_result"
    }
   ],
   "source": [
    "15 % 4"
   ]
  },
  {
   "cell_type": "code",
   "execution_count": 143,
   "id": "b130c72f-2dc8-4614-8c94-2b9361018451",
   "metadata": {},
   "outputs": [
    {
     "data": {
      "text/plain": [
       "105.5"
      ]
     },
     "execution_count": 143,
     "metadata": {},
     "output_type": "execute_result"
    }
   ],
   "source": [
    "2 * a**2 + 0.5 * b + (a+b)/2"
   ]
  },
  {
   "cell_type": "code",
   "execution_count": 67,
   "id": "6b7955d3-9bb0-4c30-bdf6-ea4963e788d3",
   "metadata": {},
   "outputs": [],
   "source": [
    "a = True"
   ]
  },
  {
   "cell_type": "code",
   "execution_count": 69,
   "id": "c1abe096-a204-49aa-9a15-9bdddf50ea20",
   "metadata": {},
   "outputs": [],
   "source": [
    "b = False"
   ]
  },
  {
   "cell_type": "code",
   "execution_count": 71,
   "id": "c6be6e78-a8c5-4561-8d4c-2cddf280a84a",
   "metadata": {},
   "outputs": [
    {
     "data": {
      "text/plain": [
       "False"
      ]
     },
     "execution_count": 71,
     "metadata": {},
     "output_type": "execute_result"
    }
   ],
   "source": [
    "a == b"
   ]
  },
  {
   "cell_type": "code",
   "execution_count": 73,
   "id": "86935b91-55af-48f2-9f12-9c9be1b89d9d",
   "metadata": {},
   "outputs": [
    {
     "data": {
      "text/plain": [
       "True"
      ]
     },
     "execution_count": 73,
     "metadata": {},
     "output_type": "execute_result"
    }
   ],
   "source": [
    "a | b"
   ]
  },
  {
   "cell_type": "code",
   "execution_count": 75,
   "id": "97d5c9fb-f1a1-45aa-9274-ca0d6548348b",
   "metadata": {},
   "outputs": [
    {
     "data": {
      "text/plain": [
       "True"
      ]
     },
     "execution_count": 75,
     "metadata": {},
     "output_type": "execute_result"
    }
   ],
   "source": [
    "a == (not b)"
   ]
  },
  {
   "cell_type": "code",
   "execution_count": 77,
   "id": "7e5e7575-1683-4657-8631-412caa98bb65",
   "metadata": {},
   "outputs": [],
   "source": [
    "a, b, c = 3, 4, 2"
   ]
  },
  {
   "cell_type": "code",
   "execution_count": 79,
   "id": "feac6ecb-0192-4fcb-8c84-e3d9107f36aa",
   "metadata": {},
   "outputs": [
    {
     "name": "stdout",
     "output_type": "stream",
     "text": [
      "3\n"
     ]
    }
   ],
   "source": [
    "print(a)"
   ]
  },
  {
   "cell_type": "code",
   "execution_count": 81,
   "id": "755ddc1a-2e05-466f-8e14-03ea1dd12a0a",
   "metadata": {},
   "outputs": [
    {
     "name": "stdout",
     "output_type": "stream",
     "text": [
      "4\n",
      "2\n"
     ]
    }
   ],
   "source": [
    "print(b)\n",
    "print(c)"
   ]
  },
  {
   "cell_type": "code",
   "execution_count": 83,
   "id": "8e3b6997-6fa2-4292-bd08-2b01801579aa",
   "metadata": {},
   "outputs": [
    {
     "data": {
      "text/plain": [
       "False"
      ]
     },
     "execution_count": 83,
     "metadata": {},
     "output_type": "execute_result"
    }
   ],
   "source": [
    "a > b"
   ]
  },
  {
   "cell_type": "code",
   "execution_count": 85,
   "id": "1c628103-e183-4237-8bcd-135749b4fb9e",
   "metadata": {},
   "outputs": [
    {
     "data": {
      "text/plain": [
       "True"
      ]
     },
     "execution_count": 85,
     "metadata": {},
     "output_type": "execute_result"
    }
   ],
   "source": [
    "a <= b"
   ]
  },
  {
   "cell_type": "code",
   "execution_count": 87,
   "id": "0f60af9f-9f17-4c11-aa23-a338cd290359",
   "metadata": {},
   "outputs": [
    {
     "data": {
      "text/plain": [
       "True"
      ]
     },
     "execution_count": 87,
     "metadata": {},
     "output_type": "execute_result"
    }
   ],
   "source": [
    "a != b"
   ]
  },
  {
   "cell_type": "code",
   "execution_count": 89,
   "id": "f57ad028-ae93-4c36-989c-951855ac939b",
   "metadata": {},
   "outputs": [
    {
     "data": {
      "text/plain": [
       "False"
      ]
     },
     "execution_count": 89,
     "metadata": {},
     "output_type": "execute_result"
    }
   ],
   "source": [
    "a == b"
   ]
  },
  {
   "cell_type": "code",
   "execution_count": 91,
   "id": "f8c6ded7-be6c-4ad5-b768-a06ee0607fce",
   "metadata": {},
   "outputs": [
    {
     "data": {
      "text/plain": [
       "True"
      ]
     },
     "execution_count": 91,
     "metadata": {},
     "output_type": "execute_result"
    }
   ],
   "source": [
    "not(a > b)"
   ]
  },
  {
   "cell_type": "code",
   "execution_count": 93,
   "id": "3f42af7c-9127-4a4d-9204-cb591e798bb4",
   "metadata": {},
   "outputs": [
    {
     "data": {
      "text/plain": [
       "True"
      ]
     },
     "execution_count": 93,
     "metadata": {},
     "output_type": "execute_result"
    }
   ],
   "source": [
    "((c > a) or (10 * c > b)) and not(b / a > c) "
   ]
  },
  {
   "cell_type": "code",
   "execution_count": 101,
   "id": "2ab5c690-05ee-41ae-9737-548e58dc4309",
   "metadata": {},
   "outputs": [],
   "source": [
    "s = [1, 2, 3.0, \"hola\", 7 + 3]"
   ]
  },
  {
   "cell_type": "code",
   "execution_count": 129,
   "id": "c43fe860-d6e9-48b4-a734-c0d74452cbdb",
   "metadata": {},
   "outputs": [
    {
     "data": {
      "text/plain": [
       "([1, 2, 3.0, 'hola', 10], 1, 2, 10, 'hola')"
      ]
     },
     "execution_count": 129,
     "metadata": {},
     "output_type": "execute_result"
    }
   ],
   "source": [
    "s, s[0], s[1], s[-1], s[-2]"
   ]
  },
  {
   "cell_type": "code",
   "execution_count": 13,
   "id": "ef1e4e9f-0535-4be2-a4f9-12bd1602018e",
   "metadata": {},
   "outputs": [],
   "source": [
    "\n",
    "import numpy as np"
   ]
  },
  {
   "cell_type": "code",
   "execution_count": 133,
   "id": "012624ab-8d80-4cae-98ce-1b69bffc850d",
   "metadata": {},
   "outputs": [],
   "source": [
    "v = np.array([1,2,3])"
   ]
  },
  {
   "cell_type": "code",
   "execution_count": 135,
   "id": "8c5d9b79-c15f-4de9-95bb-4f0f6619650b",
   "metadata": {},
   "outputs": [],
   "source": [
    "w = np.array([1.2, 7, np.pi])"
   ]
  },
  {
   "cell_type": "code",
   "execution_count": 137,
   "id": "7af23a24-e31b-4341-82b3-896d2443bba6",
   "metadata": {},
   "outputs": [
    {
     "name": "stdout",
     "output_type": "stream",
     "text": [
      "[1 2 3]\n",
      "[1.2        7.         3.14159265]\n"
     ]
    }
   ],
   "source": [
    "print(v)\n",
    "print(w)"
   ]
  },
  {
   "cell_type": "code",
   "execution_count": 139,
   "id": "06420119-239a-4490-b167-17a8c2b75dc4",
   "metadata": {},
   "outputs": [
    {
     "data": {
      "text/plain": [
       "(array([1, 2, 3]),\n",
       " array([1.2       , 7.        , 3.14159265]),\n",
       " array([2.2       , 9.        , 6.14159265]))"
      ]
     },
     "execution_count": 139,
     "metadata": {},
     "output_type": "execute_result"
    }
   ],
   "source": [
    "v, w, v+w"
   ]
  },
  {
   "cell_type": "code",
   "execution_count": 197,
   "id": "1f352cef-33e5-4440-9ae4-2d4aee98c3db",
   "metadata": {},
   "outputs": [
    {
     "name": "stdout",
     "output_type": "stream",
     "text": [
      "v           == [1.   2.   2.72 7.  ]\n",
      "w           == [1.2  3.14 4.   5.  ]\n",
      "v + w       == [ 2.2   5.14  6.72 12.  ]\n",
      "v ** 2      == [ 1.    4.    7.39 49.  ]\n",
      "v % 2       == [1.   0.   0.72 1.  ]\n",
      "np.sum(v)   == 12.718281828459045\n",
      "np.sqrt(w)  == [1.1  1.77 2.   2.24]\n",
      "v > 3       == [False False False  True]\n",
      "w < 3.5     == [ True  True False False]\n"
     ]
    }
   ],
   "source": [
    "for expr in [ \n",
    "        \"v\", \"w\", \"v + w\", \"v ** 2\", \"v % 2\", \"np.sum(v)\", \"np.sqrt(w)\", \"v > 3\", \"w < 3.5\" \n",
    "]:\n",
    "    print(f\"{expr:11s} == {eval(expr)}\")"
   ]
  },
  {
   "cell_type": "code",
   "execution_count": 199,
   "id": "f15d2567-72a0-4e18-909f-c5940570a4ea",
   "metadata": {},
   "outputs": [
    {
     "data": {
      "text/plain": [
       "array([ True,  True, False,  True])"
      ]
     },
     "execution_count": 199,
     "metadata": {},
     "output_type": "execute_result"
    }
   ],
   "source": [
    "(v > 3) | (w < 3.5)"
   ]
  },
  {
   "cell_type": "code",
   "execution_count": 201,
   "id": "fa7b26e0-12b9-496e-82d0-3ff24149772b",
   "metadata": {},
   "outputs": [
    {
     "name": "stdout",
     "output_type": "stream",
     "text": [
      "[False  True False]\n",
      "[False  True False]\n"
     ]
    }
   ],
   "source": [
    "x = np.array([True, False, True])\n",
    "print(~x)\n",
    "print(np.logical_not(x))"
   ]
  },
  {
   "cell_type": "code",
   "execution_count": 203,
   "id": "dacecb8d-6916-4383-aa11-008b69cd72c9",
   "metadata": {},
   "outputs": [],
   "source": [
    "np.set_printoptions(precision=2, suppress=True)"
   ]
  },
  {
   "cell_type": "code",
   "execution_count": 189,
   "id": "ec2fc876-40a2-4f81-8d3f-f68de545a687",
   "metadata": {},
   "outputs": [],
   "source": [
    "v = np.array([1,2,np.e,7])"
   ]
  },
  {
   "cell_type": "code",
   "execution_count": 191,
   "id": "e68cbbbb-b03e-4be8-83ea-318fa6120d11",
   "metadata": {},
   "outputs": [],
   "source": [
    "w = np.array([1.2, np.pi, 4, 5])"
   ]
  },
  {
   "cell_type": "code",
   "execution_count": 193,
   "id": "63cc4d42-362e-4456-bfb5-845999122ed4",
   "metadata": {},
   "outputs": [
    {
     "name": "stdout",
     "output_type": "stream",
     "text": [
      "v+w =  [ 2.2   5.14  6.72 12.  ]\n"
     ]
    }
   ],
   "source": [
    "print(\"v+w = \", v + w)"
   ]
  },
  {
   "cell_type": "code",
   "execution_count": 195,
   "id": "2e838087-75a5-413c-9f4d-14a829fc11fc",
   "metadata": {},
   "outputs": [
    {
     "name": "stdout",
     "output_type": "stream",
     "text": [
      "v*w =  [ 1.2   6.28 10.87 35.  ]\n"
     ]
    }
   ],
   "source": [
    "print(\"v*w = \", v * w)"
   ]
  },
  {
   "cell_type": "code",
   "execution_count": 205,
   "id": "5ac0eb61-575f-4fd4-b409-880a69c5ed87",
   "metadata": {},
   "outputs": [],
   "source": [
    "v = np.array([1,2,np.e,7])"
   ]
  },
  {
   "cell_type": "code",
   "execution_count": 207,
   "id": "6ad6b591-f05f-45db-9fae-e0b9bda9802f",
   "metadata": {},
   "outputs": [],
   "source": [
    "w = np.array([1.2, np.pi, 4, 5])"
   ]
  },
  {
   "cell_type": "code",
   "execution_count": 209,
   "id": "0ae7fb69-c3d5-4e4a-a76b-21ce47edb799",
   "metadata": {},
   "outputs": [],
   "source": [
    "z = np.array([0,1])"
   ]
  },
  {
   "cell_type": "code",
   "execution_count": 211,
   "id": "4f06749a-5d33-489c-8eb3-bbfd9e32c7bc",
   "metadata": {},
   "outputs": [
    {
     "data": {
      "text/plain": [
       "array([ 1.2 ,  6.28, 10.87, 35.  ])"
      ]
     },
     "execution_count": 211,
     "metadata": {},
     "output_type": "execute_result"
    }
   ],
   "source": [
    "v * w"
   ]
  },
  {
   "cell_type": "code",
   "execution_count": 213,
   "id": "9c658814-966d-43b3-a2dd-e7f0eb5fc679",
   "metadata": {},
   "outputs": [
    {
     "data": {
      "text/plain": [
       "array([3.  , 4.  , 4.72, 9.  ])"
      ]
     },
     "execution_count": 213,
     "metadata": {},
     "output_type": "execute_result"
    }
   ],
   "source": [
    "v+2"
   ]
  },
  {
   "cell_type": "code",
   "execution_count": 215,
   "id": "9ef93faa-18a6-44e1-af00-ed04a69afdb7",
   "metadata": {},
   "outputs": [
    {
     "ename": "ValueError",
     "evalue": "operands could not be broadcast together with shapes (4,) (2,) ",
     "output_type": "error",
     "traceback": [
      "\u001b[1;31m---------------------------------------------------------------------------\u001b[0m",
      "\u001b[1;31mValueError\u001b[0m                                Traceback (most recent call last)",
      "Cell \u001b[1;32mIn[215], line 1\u001b[0m\n\u001b[1;32m----> 1\u001b[0m v\u001b[38;5;241m+\u001b[39mz\n",
      "\u001b[1;31mValueError\u001b[0m: operands could not be broadcast together with shapes (4,) (2,) "
     ]
    }
   ],
   "source": [
    "v+z # Funcionara?"
   ]
  },
  {
   "cell_type": "code",
   "execution_count": 217,
   "id": "29b38270-6e2a-42ae-a167-63924967337a",
   "metadata": {},
   "outputs": [],
   "source": [
    "v = np.array([1, 2, np.e, 7, 5])"
   ]
  },
  {
   "cell_type": "code",
   "execution_count": 219,
   "id": "4932d8f9-a7ee-4711-ad85-cd8258b551bb",
   "metadata": {},
   "outputs": [
    {
     "data": {
      "text/plain": [
       "(1.0, 2.0, 5.0)"
      ]
     },
     "execution_count": 219,
     "metadata": {},
     "output_type": "execute_result"
    }
   ],
   "source": [
    "v[0], v[1], v[-1] # funcionara ‘v[-2]‘?"
   ]
  },
  {
   "cell_type": "code",
   "execution_count": 221,
   "id": "dd4e372c-e921-43e1-8605-e077dc5395fe",
   "metadata": {},
   "outputs": [
    {
     "data": {
      "text/plain": [
       "7.0"
      ]
     },
     "execution_count": 221,
     "metadata": {},
     "output_type": "execute_result"
    }
   ],
   "source": [
    "v[-2]"
   ]
  },
  {
   "cell_type": "code",
   "execution_count": 223,
   "id": "d084ad22-65ff-4b07-8b5b-66cb985fd622",
   "metadata": {},
   "outputs": [
    {
     "data": {
      "text/plain": [
       "array([1., 7.])"
      ]
     },
     "execution_count": 223,
     "metadata": {},
     "output_type": "execute_result"
    }
   ],
   "source": [
    "v[[0, 3]]"
   ]
  },
  {
   "cell_type": "code",
   "execution_count": 225,
   "id": "62a6b1a0-718c-43cb-a9c0-9952a190ae10",
   "metadata": {},
   "outputs": [
    {
     "data": {
      "text/plain": [
       "(array([1.  , 2.  , 2.72]), array([1.]))"
      ]
     },
     "execution_count": 225,
     "metadata": {},
     "output_type": "execute_result"
    }
   ],
   "source": [
    "v[0:3], v[0:1]"
   ]
  },
  {
   "cell_type": "code",
   "execution_count": 227,
   "id": "32e66c95-de5e-4e15-875b-4166fc46a765",
   "metadata": {},
   "outputs": [],
   "source": [
    "v = np.array([1, 2, np.e, 7, 5])"
   ]
  },
  {
   "cell_type": "code",
   "execution_count": 229,
   "id": "7fc7c946-0a4b-45db-b013-911df7db72a7",
   "metadata": {},
   "outputs": [],
   "source": [
    "w = np.array([1, 0, 2, 5, 0])"
   ]
  },
  {
   "cell_type": "code",
   "execution_count": 231,
   "id": "e4d17f05-4c47-42d3-ace0-64ad5bfb7c75",
   "metadata": {},
   "outputs": [
    {
     "data": {
      "text/plain": [
       "array([2.72, 7.  , 5.  ])"
      ]
     },
     "execution_count": 231,
     "metadata": {},
     "output_type": "execute_result"
    }
   ],
   "source": [
    "v[v > 2]"
   ]
  },
  {
   "cell_type": "code",
   "execution_count": 233,
   "id": "d339684a-13f8-4c2e-8882-c2147b1aa54e",
   "metadata": {},
   "outputs": [
    {
     "data": {
      "text/plain": [
       "array([1.  , 2.72, 7.  ])"
      ]
     },
     "execution_count": 233,
     "metadata": {},
     "output_type": "execute_result"
    }
   ],
   "source": [
    "v[w != 0]"
   ]
  },
  {
   "cell_type": "code",
   "execution_count": 235,
   "id": "c2bfc0d7-4098-4a21-9964-f5b2bc011a23",
   "metadata": {},
   "outputs": [],
   "source": [
    "A = np.array([[3, 2, 2], [-1, 0, 1], [-2, 2, 4]])"
   ]
  },
  {
   "cell_type": "code",
   "execution_count": 237,
   "id": "4d181be5-293d-487e-971b-9ea5059c9195",
   "metadata": {},
   "outputs": [
    {
     "data": {
      "text/plain": [
       "array([[ 3,  2,  2],\n",
       "       [-1,  0,  1],\n",
       "       [-2,  2,  4]])"
      ]
     },
     "execution_count": 237,
     "metadata": {},
     "output_type": "execute_result"
    }
   ],
   "source": [
    "A"
   ]
  },
  {
   "cell_type": "code",
   "execution_count": 239,
   "id": "4eb16293-5e13-431c-be63-6c72c46d1607",
   "metadata": {},
   "outputs": [],
   "source": [
    "B = np.array([[1, 0, 0], [0, 1, 0], [0, 0, 1]])"
   ]
  },
  {
   "cell_type": "code",
   "execution_count": 241,
   "id": "7302ea54-0a42-4bd3-98ad-a97ed9081b80",
   "metadata": {},
   "outputs": [],
   "source": [
    "C = np.array([[0, 1,-1], [5,-2, 1]])"
   ]
  },
  {
   "cell_type": "code",
   "execution_count": 248,
   "id": "6f617061-c0f1-4f81-8b38-70f7976da5cb",
   "metadata": {},
   "outputs": [
    {
     "data": {
      "text/plain": [
       "array([[ 4,  2,  2],\n",
       "       [-1,  1,  1],\n",
       "       [-2,  2,  5]])"
      ]
     },
     "execution_count": 248,
     "metadata": {},
     "output_type": "execute_result"
    }
   ],
   "source": [
    "A+B"
   ]
  },
  {
   "cell_type": "code",
   "execution_count": 250,
   "id": "3ca86b4e-50d7-4a78-b4fd-faa7ab808c08",
   "metadata": {},
   "outputs": [
    {
     "data": {
      "text/plain": [
       "array([[3, 0, 0],\n",
       "       [0, 0, 0],\n",
       "       [0, 0, 4]])"
      ]
     },
     "execution_count": 250,
     "metadata": {},
     "output_type": "execute_result"
    }
   ],
   "source": [
    "A*B"
   ]
  },
  {
   "cell_type": "code",
   "execution_count": 252,
   "id": "b0a88bd0-17e0-4a95-8b5a-1999f468570c",
   "metadata": {},
   "outputs": [
    {
     "data": {
      "text/plain": [
       "array([[ 0,  1,  1],\n",
       "       [25,  4,  1]])"
      ]
     },
     "execution_count": 252,
     "metadata": {},
     "output_type": "execute_result"
    }
   ],
   "source": [
    "C**2 # bonus: pruebe con np."
   ]
  },
  {
   "cell_type": "code",
   "execution_count": 254,
   "id": "e77deb29-9759-4efc-bd93-6f61ad47fb03",
   "metadata": {},
   "outputs": [
    {
     "data": {
      "text/plain": [
       "array([[ 2, -3],\n",
       "       [-3, 30]])"
      ]
     },
     "execution_count": 254,
     "metadata": {},
     "output_type": "execute_result"
    }
   ],
   "source": [
    "C @ C.T  # Resultado es una matriz 2x2\n"
   ]
  },
  {
   "cell_type": "code",
   "execution_count": 256,
   "id": "29adaffc-75e4-4329-9b6a-863f222a4357",
   "metadata": {},
   "outputs": [
    {
     "data": {
      "text/plain": [
       "array([[ 3,  2,  2],\n",
       "       [-1,  0,  1],\n",
       "       [-2,  2,  4]])"
      ]
     },
     "execution_count": 256,
     "metadata": {},
     "output_type": "execute_result"
    }
   ],
   "source": [
    "A @ B"
   ]
  },
  {
   "cell_type": "code",
   "execution_count": 258,
   "id": "abbfbde8-82b2-40b5-ac2c-f6bf5e08b8e9",
   "metadata": {},
   "outputs": [
    {
     "data": {
      "text/plain": [
       "array([[ 3,  2,  2],\n",
       "       [-1,  0,  1],\n",
       "       [-2,  2,  4]])"
      ]
     },
     "execution_count": 258,
     "metadata": {},
     "output_type": "execute_result"
    }
   ],
   "source": [
    "A"
   ]
  },
  {
   "cell_type": "code",
   "execution_count": 260,
   "id": "22f58cd6-c1f4-4360-aadc-bb2a8f905c82",
   "metadata": {},
   "outputs": [
    {
     "data": {
      "text/plain": [
       "array([[1, 0, 0],\n",
       "       [0, 1, 0],\n",
       "       [0, 0, 1]])"
      ]
     },
     "execution_count": 260,
     "metadata": {},
     "output_type": "execute_result"
    }
   ],
   "source": [
    "B"
   ]
  },
  {
   "cell_type": "code",
   "execution_count": 262,
   "id": "d06b0590-cf72-42fa-8e86-ee6f7e2f4421",
   "metadata": {},
   "outputs": [
    {
     "data": {
      "text/plain": [
       "array([[ 3,  2,  2],\n",
       "       [-1,  0,  1],\n",
       "       [-2,  2,  4]])"
      ]
     },
     "execution_count": 262,
     "metadata": {},
     "output_type": "execute_result"
    }
   ],
   "source": [
    "A @ B"
   ]
  },
  {
   "cell_type": "code",
   "execution_count": 264,
   "id": "f5c53b86-197a-4149-a12e-a845b7fc9171",
   "metadata": {},
   "outputs": [
    {
     "ename": "ValueError",
     "evalue": "matmul: Input operand 1 has a mismatch in its core dimension 0, with gufunc signature (n?,k),(k,m?)->(n?,m?) (size 2 is different from 3)",
     "output_type": "error",
     "traceback": [
      "\u001b[1;31m---------------------------------------------------------------------------\u001b[0m",
      "\u001b[1;31mValueError\u001b[0m                                Traceback (most recent call last)",
      "Cell \u001b[1;32mIn[264], line 1\u001b[0m\n\u001b[1;32m----> 1\u001b[0m B \u001b[38;5;241m@\u001b[39m C\n",
      "\u001b[1;31mValueError\u001b[0m: matmul: Input operand 1 has a mismatch in its core dimension 0, with gufunc signature (n?,k),(k,m?)->(n?,m?) (size 2 is different from 3)"
     ]
    }
   ],
   "source": [
    "B @ C"
   ]
  },
  {
   "cell_type": "code",
   "execution_count": 266,
   "id": "5aac38ec-7239-4ba2-a89e-f13b7adbdf89",
   "metadata": {},
   "outputs": [
    {
     "data": {
      "text/plain": [
       "array([[ 0,  1, -1],\n",
       "       [ 5, -2,  1]])"
      ]
     },
     "execution_count": 266,
     "metadata": {},
     "output_type": "execute_result"
    }
   ],
   "source": [
    "C"
   ]
  },
  {
   "cell_type": "code",
   "execution_count": 268,
   "id": "f3c02cb5-36e4-4af2-b5ec-60c641779984",
   "metadata": {},
   "outputs": [
    {
     "data": {
      "text/plain": [
       "((3, 3), (2, 3))"
      ]
     },
     "execution_count": 268,
     "metadata": {},
     "output_type": "execute_result"
    }
   ],
   "source": [
    "B.shape, C.shape"
   ]
  },
  {
   "cell_type": "code",
   "execution_count": 270,
   "id": "5e006bb7-0e0b-4fc9-bbfa-84248d548593",
   "metadata": {},
   "outputs": [
    {
     "data": {
      "text/plain": [
       "array([[ 0,  5],\n",
       "       [ 1, -2],\n",
       "       [-1,  1]])"
      ]
     },
     "execution_count": 270,
     "metadata": {},
     "output_type": "execute_result"
    }
   ],
   "source": [
    "B @ C.T"
   ]
  },
  {
   "cell_type": "code",
   "execution_count": 272,
   "id": "a6bd85f3-cdbe-452e-a773-28c07b31df98",
   "metadata": {},
   "outputs": [
    {
     "data": {
      "text/plain": [
       "(3, 2)"
      ]
     },
     "execution_count": 272,
     "metadata": {},
     "output_type": "execute_result"
    }
   ],
   "source": [
    "C.T.shape"
   ]
  },
  {
   "cell_type": "code",
   "execution_count": 274,
   "id": "c73ed117-aae1-48c5-a521-286191c90ccc",
   "metadata": {},
   "outputs": [],
   "source": [
    "a = np.sqrt(2)"
   ]
  },
  {
   "cell_type": "code",
   "execution_count": 276,
   "id": "c1a3fd97-f21b-426c-8baf-c72d89d3eb5f",
   "metadata": {},
   "outputs": [
    {
     "data": {
      "text/plain": [
       "1.4142135623730951"
      ]
     },
     "execution_count": 276,
     "metadata": {},
     "output_type": "execute_result"
    }
   ],
   "source": [
    "a"
   ]
  },
  {
   "cell_type": "code",
   "execution_count": 278,
   "id": "f1613467-9332-4089-a4a5-aa5c1c97537a",
   "metadata": {},
   "outputs": [
    {
     "data": {
      "text/plain": [
       "1.0"
      ]
     },
     "execution_count": 278,
     "metadata": {},
     "output_type": "execute_result"
    }
   ],
   "source": [
    "np.round(a)"
   ]
  },
  {
   "cell_type": "code",
   "execution_count": 280,
   "id": "735a5f3d-b7cd-4343-a4d2-9b50cf658e56",
   "metadata": {},
   "outputs": [
    {
     "data": {
      "text/plain": [
       "1.41"
      ]
     },
     "execution_count": 280,
     "metadata": {},
     "output_type": "execute_result"
    }
   ],
   "source": [
    "np.round(a,2)"
   ]
  },
  {
   "cell_type": "code",
   "execution_count": 282,
   "id": "9c1fa947-aa4f-44d1-9286-947e6be12729",
   "metadata": {},
   "outputs": [
    {
     "name": "stdout",
     "output_type": "stream",
     "text": [
      "Evenly round to the given number of decimals.\n",
      "\n",
      "Parameters\n",
      "----------\n",
      "a : array_like\n",
      "    Input data.\n",
      "decimals : int, optional\n",
      "    Number of decimal places to round to (default: 0).  If\n",
      "    decimals is negative, it specifies the number of positions to\n",
      "    the left of the decimal point.\n",
      "out : ndarray, optional\n",
      "    Alternative output array in which to place the result. It must have\n",
      "    the same shape as the expected output, but the type of the output\n",
      "    values will be cast if necessary. See :ref:`ufuncs-output-type` for more\n",
      "    details.\n",
      "\n",
      "Returns\n",
      "-------\n",
      "rounded_array : ndarray\n",
      "    An array of the same type as `a`, containing the rounded values.\n",
      "    Unless `out` was specified, a new array is created.  A reference to\n",
      "    the result is returned.\n",
      "\n",
      "    The real and imaginary parts of complex numbers are rounded\n",
      "    separately.  The result of rounding a float is a float.\n",
      "\n",
      "See Also\n",
      "--------\n",
      "ndarray.round : equivalent method\n",
      "around : an alias for this function\n",
      "ceil, fix, floor, rint, trunc\n",
      "\n",
      "\n",
      "Notes\n",
      "-----\n",
      "For values exactly halfway between rounded decimal values, NumPy\n",
      "rounds to the nearest even value. Thus 1.5 and 2.5 round to 2.0,\n",
      "-0.5 and 0.5 round to 0.0, etc.\n",
      "\n",
      "``np.round`` uses a fast but sometimes inexact algorithm to round\n",
      "floating-point datatypes. For positive `decimals` it is equivalent to\n",
      "``np.true_divide(np.rint(a * 10**decimals), 10**decimals)``, which has\n",
      "error due to the inexact representation of decimal fractions in the IEEE\n",
      "floating point standard [1]_ and errors introduced when scaling by powers\n",
      "of ten. For instance, note the extra \"1\" in the following:\n",
      "\n",
      "    >>> np.round(56294995342131.5, 3)\n",
      "    56294995342131.51\n",
      "\n",
      "If your goal is to print such values with a fixed number of decimals, it is\n",
      "preferable to use numpy's float printing routines to limit the number of\n",
      "printed decimals:\n",
      "\n",
      "    >>> np.format_float_positional(56294995342131.5, precision=3)\n",
      "    '56294995342131.5'\n",
      "\n",
      "The float printing routines use an accurate but much more computationally\n",
      "demanding algorithm to compute the number of digits after the decimal\n",
      "point.\n",
      "\n",
      "Alternatively, Python's builtin `round` function uses a more accurate\n",
      "but slower algorithm for 64-bit floating point values:\n",
      "\n",
      "    >>> round(56294995342131.5, 3)\n",
      "    56294995342131.5\n",
      "    >>> np.round(16.055, 2), round(16.055, 2)  # equals 16.0549999999999997\n",
      "    (16.06, 16.05)\n",
      "\n",
      "\n",
      "References\n",
      "----------\n",
      ".. [1] \"Lecture Notes on the Status of IEEE 754\", William Kahan,\n",
      "       https://people.eecs.berkeley.edu/~wkahan/ieee754status/IEEE754.PDF\n",
      "\n",
      "Examples\n",
      "--------\n",
      ">>> np.round([0.37, 1.64])\n",
      "array([0., 2.])\n",
      ">>> np.round([0.37, 1.64], decimals=1)\n",
      "array([0.4, 1.6])\n",
      ">>> np.round([.5, 1.5, 2.5, 3.5, 4.5]) # rounds to nearest even value\n",
      "array([0., 2., 2., 4., 4.])\n",
      ">>> np.round([1,2,3,11], decimals=1) # ndarray of ints is returned\n",
      "array([ 1,  2,  3, 11])\n",
      ">>> np.round([1,2,3,11], decimals=-1)\n",
      "array([ 0,  0,  0, 10])\n"
     ]
    }
   ],
   "source": [
    "np.info(np.round)"
   ]
  },
  {
   "cell_type": "code",
   "execution_count": 284,
   "id": "7101b1fb-8768-41c9-9817-fce6ba3e054f",
   "metadata": {},
   "outputs": [
    {
     "name": "stdout",
     "output_type": "stream",
     "text": [
      "ceil(x, /, out=None, *, where=True, casting='same_kind', order='K', dtype=None, subok=True[, signature, extobj])\n",
      "\n",
      "Return the ceiling of the input, element-wise.\n",
      "\n",
      "The ceil of the scalar `x` is the smallest integer `i`, such that\n",
      "``i >= x``.  It is often denoted as :math:`\\lceil x \\rceil`.\n",
      "\n",
      "Parameters\n",
      "----------\n",
      "x : array_like\n",
      "    Input data.\n",
      "out : ndarray, None, or tuple of ndarray and None, optional\n",
      "    A location into which the result is stored. If provided, it must have\n",
      "    a shape that the inputs broadcast to. If not provided or None,\n",
      "    a freshly-allocated array is returned. A tuple (possible only as a\n",
      "    keyword argument) must have length equal to the number of outputs.\n",
      "where : array_like, optional\n",
      "    This condition is broadcast over the input. At locations where the\n",
      "    condition is True, the `out` array will be set to the ufunc result.\n",
      "    Elsewhere, the `out` array will retain its original value.\n",
      "    Note that if an uninitialized `out` array is created via the default\n",
      "    ``out=None``, locations within it where the condition is False will\n",
      "    remain uninitialized.\n",
      "**kwargs\n",
      "    For other keyword-only arguments, see the\n",
      "    :ref:`ufunc docs <ufuncs.kwargs>`.\n",
      "\n",
      "Returns\n",
      "-------\n",
      "y : ndarray or scalar\n",
      "    The ceiling of each element in `x`, with `float` dtype.\n",
      "    This is a scalar if `x` is a scalar.\n",
      "\n",
      "See Also\n",
      "--------\n",
      "floor, trunc, rint, fix\n",
      "\n",
      "Examples\n",
      "--------\n",
      ">>> a = np.array([-1.7, -1.5, -0.2, 0.2, 1.5, 1.7, 2.0])\n",
      ">>> np.ceil(a)\n",
      "array([-1., -1., -0.,  1.,  2.,  2.,  2.])\n"
     ]
    }
   ],
   "source": [
    "np.info(np.ceil)"
   ]
  },
  {
   "cell_type": "code",
   "execution_count": 286,
   "id": "8e0a3e66-979f-428c-b52f-87a1344cd8fd",
   "metadata": {},
   "outputs": [
    {
     "data": {
      "text/plain": [
       "array([1.41, 2.  , 2.83, 1.19])"
      ]
     },
     "execution_count": 286,
     "metadata": {},
     "output_type": "execute_result"
    }
   ],
   "source": [
    "v = np.array([a, a**2, a**3, a**(.5)])\n",
    "v"
   ]
  },
  {
   "cell_type": "code",
   "execution_count": 288,
   "id": "a3b44c40-f60d-4292-90a3-2e93d63910f9",
   "metadata": {},
   "outputs": [
    {
     "data": {
      "text/plain": [
       "array([1., 2., 2., 1.])"
      ]
     },
     "execution_count": 288,
     "metadata": {},
     "output_type": "execute_result"
    }
   ],
   "source": [
    "np.floor(v)"
   ]
  },
  {
   "cell_type": "code",
   "execution_count": 290,
   "id": "b7567f85-2181-4a10-883c-3bf25ecd8263",
   "metadata": {},
   "outputs": [
    {
     "data": {
      "text/plain": [
       "2.8284271247461907"
      ]
     },
     "execution_count": 290,
     "metadata": {},
     "output_type": "execute_result"
    }
   ],
   "source": [
    "np.max(v)"
   ]
  },
  {
   "cell_type": "code",
   "execution_count": 292,
   "id": "8ef65596-56e9-4ec1-816a-9a40c308101a",
   "metadata": {},
   "outputs": [
    {
     "ename": "SyntaxError",
     "evalue": "invalid syntax (1401203749.py, line 1)",
     "output_type": "error",
     "traceback": [
      "\u001b[1;36m  Cell \u001b[1;32mIn[292], line 1\u001b[1;36m\u001b[0m\n\u001b[1;33m    np.min()v\u001b[0m\n\u001b[1;37m            ^\u001b[0m\n\u001b[1;31mSyntaxError\u001b[0m\u001b[1;31m:\u001b[0m invalid syntax\n"
     ]
    }
   ],
   "source": [
    "np.min()v"
   ]
  },
  {
   "cell_type": "code",
   "execution_count": 294,
   "id": "3812b98b-cb34-4202-a7e9-47090035f27e",
   "metadata": {},
   "outputs": [
    {
     "data": {
      "text/plain": [
       "1.189207115002721"
      ]
     },
     "execution_count": 294,
     "metadata": {},
     "output_type": "execute_result"
    }
   ],
   "source": [
    "np.min(v)"
   ]
  },
  {
   "cell_type": "code",
   "execution_count": 296,
   "id": "110b7ab9-3f6f-4805-920d-f9850de36677",
   "metadata": {},
   "outputs": [
    {
     "data": {
      "text/plain": [
       "7.431847802122007"
      ]
     },
     "execution_count": 296,
     "metadata": {},
     "output_type": "execute_result"
    }
   ],
   "source": [
    "np.sum(v)"
   ]
  },
  {
   "cell_type": "code",
   "execution_count": 300,
   "id": "f0fae767-ca53-4355-ac60-df43275f26a6",
   "metadata": {},
   "outputs": [
    {
     "data": {
      "text/plain": [
       "1.8579619505305018"
      ]
     },
     "execution_count": 300,
     "metadata": {},
     "output_type": "execute_result"
    }
   ],
   "source": [
    "np.mean(v) #media"
   ]
  },
  {
   "cell_type": "code",
   "execution_count": 302,
   "id": "479f5863-f850-40ac-94df-849fa0011a0d",
   "metadata": {},
   "outputs": [
    {
     "data": {
      "text/plain": [
       "array([1.19, 1.41, 2.  , 2.83])"
      ]
     },
     "execution_count": 302,
     "metadata": {},
     "output_type": "execute_result"
    }
   ],
   "source": [
    "np.sort(v)"
   ]
  },
  {
   "cell_type": "code",
   "execution_count": 37,
   "id": "02f24fed-1fbc-49d1-bd3c-8892505d05e6",
   "metadata": {},
   "outputs": [],
   "source": [
    "alturas_cm = np.array([180, 178, 154, 202])\n",
    "frutas = np.array([\"banana\", \"pera\", \"durazno\"])"
   ]
  },
  {
   "cell_type": "code",
   "execution_count": 39,
   "id": "4dd1eb13-49c6-4435-91ab-97090fe60db7",
   "metadata": {},
   "outputs": [
    {
     "data": {
      "text/plain": [
       "714"
      ]
     },
     "execution_count": 39,
     "metadata": {},
     "output_type": "execute_result"
    }
   ],
   "source": [
    "np.sum(alturas_cm)"
   ]
  },
  {
   "cell_type": "code",
   "execution_count": 41,
   "id": "a250792c-e2b8-4f40-a73d-e5ba4396fdf1",
   "metadata": {},
   "outputs": [
    {
     "ename": "UFuncTypeError",
     "evalue": "ufunc 'add' did not contain a loop with signature matching types (dtype('<U7'), dtype('<U7')) -> None",
     "output_type": "error",
     "traceback": [
      "\u001b[1;31m---------------------------------------------------------------------------\u001b[0m",
      "\u001b[1;31mUFuncTypeError\u001b[0m                            Traceback (most recent call last)",
      "Cell \u001b[1;32mIn[41], line 1\u001b[0m\n\u001b[1;32m----> 1\u001b[0m np\u001b[38;5;241m.\u001b[39msum(frutas)\n",
      "File \u001b[1;32m~\\anaconda3\\Lib\\site-packages\\numpy\\core\\fromnumeric.py:2313\u001b[0m, in \u001b[0;36msum\u001b[1;34m(a, axis, dtype, out, keepdims, initial, where)\u001b[0m\n\u001b[0;32m   2310\u001b[0m         \u001b[38;5;28;01mreturn\u001b[39;00m out\n\u001b[0;32m   2311\u001b[0m     \u001b[38;5;28;01mreturn\u001b[39;00m res\n\u001b[1;32m-> 2313\u001b[0m \u001b[38;5;28;01mreturn\u001b[39;00m _wrapreduction(a, np\u001b[38;5;241m.\u001b[39madd, \u001b[38;5;124m'\u001b[39m\u001b[38;5;124msum\u001b[39m\u001b[38;5;124m'\u001b[39m, axis, dtype, out, keepdims\u001b[38;5;241m=\u001b[39mkeepdims,\n\u001b[0;32m   2314\u001b[0m                       initial\u001b[38;5;241m=\u001b[39minitial, where\u001b[38;5;241m=\u001b[39mwhere)\n",
      "File \u001b[1;32m~\\anaconda3\\Lib\\site-packages\\numpy\\core\\fromnumeric.py:88\u001b[0m, in \u001b[0;36m_wrapreduction\u001b[1;34m(obj, ufunc, method, axis, dtype, out, **kwargs)\u001b[0m\n\u001b[0;32m     85\u001b[0m         \u001b[38;5;28;01melse\u001b[39;00m:\n\u001b[0;32m     86\u001b[0m             \u001b[38;5;28;01mreturn\u001b[39;00m reduction(axis\u001b[38;5;241m=\u001b[39maxis, out\u001b[38;5;241m=\u001b[39mout, \u001b[38;5;241m*\u001b[39m\u001b[38;5;241m*\u001b[39mpasskwargs)\n\u001b[1;32m---> 88\u001b[0m \u001b[38;5;28;01mreturn\u001b[39;00m ufunc\u001b[38;5;241m.\u001b[39mreduce(obj, axis, dtype, out, \u001b[38;5;241m*\u001b[39m\u001b[38;5;241m*\u001b[39mpasskwargs)\n",
      "\u001b[1;31mUFuncTypeError\u001b[0m: ufunc 'add' did not contain a loop with signature matching types (dtype('<U7'), dtype('<U7')) -> None"
     ]
    }
   ],
   "source": [
    "np.sum(frutas)"
   ]
  },
  {
   "cell_type": "markdown",
   "id": "369e6746-d57a-4fe2-b672-2881734dd65b",
   "metadata": {},
   "source": [
    "np.min(frutas)"
   ]
  },
  {
   "cell_type": "code",
   "execution_count": 44,
   "id": "d7226368-dc4e-470a-bc8b-a108b1b49424",
   "metadata": {},
   "outputs": [
    {
     "ename": "UFuncTypeError",
     "evalue": "ufunc 'minimum' did not contain a loop with signature matching types (dtype('<U7'), dtype('<U7')) -> None",
     "output_type": "error",
     "traceback": [
      "\u001b[1;31m---------------------------------------------------------------------------\u001b[0m",
      "\u001b[1;31mUFuncTypeError\u001b[0m                            Traceback (most recent call last)",
      "Cell \u001b[1;32mIn[44], line 1\u001b[0m\n\u001b[1;32m----> 1\u001b[0m np\u001b[38;5;241m.\u001b[39mmin(frutas)\n",
      "File \u001b[1;32m~\\anaconda3\\Lib\\site-packages\\numpy\\core\\fromnumeric.py:2953\u001b[0m, in \u001b[0;36mmin\u001b[1;34m(a, axis, out, keepdims, initial, where)\u001b[0m\n\u001b[0;32m   2836\u001b[0m \u001b[38;5;129m@array_function_dispatch\u001b[39m(_min_dispatcher)\n\u001b[0;32m   2837\u001b[0m \u001b[38;5;28;01mdef\u001b[39;00m \u001b[38;5;21mmin\u001b[39m(a, axis\u001b[38;5;241m=\u001b[39m\u001b[38;5;28;01mNone\u001b[39;00m, out\u001b[38;5;241m=\u001b[39m\u001b[38;5;28;01mNone\u001b[39;00m, keepdims\u001b[38;5;241m=\u001b[39mnp\u001b[38;5;241m.\u001b[39m_NoValue, initial\u001b[38;5;241m=\u001b[39mnp\u001b[38;5;241m.\u001b[39m_NoValue,\n\u001b[0;32m   2838\u001b[0m         where\u001b[38;5;241m=\u001b[39mnp\u001b[38;5;241m.\u001b[39m_NoValue):\n\u001b[0;32m   2839\u001b[0m \u001b[38;5;250m    \u001b[39m\u001b[38;5;124;03m\"\"\"\u001b[39;00m\n\u001b[0;32m   2840\u001b[0m \u001b[38;5;124;03m    Return the minimum of an array or minimum along an axis.\u001b[39;00m\n\u001b[0;32m   2841\u001b[0m \n\u001b[1;32m   (...)\u001b[0m\n\u001b[0;32m   2951\u001b[0m \u001b[38;5;124;03m    6\u001b[39;00m\n\u001b[0;32m   2952\u001b[0m \u001b[38;5;124;03m    \"\"\"\u001b[39;00m\n\u001b[1;32m-> 2953\u001b[0m     \u001b[38;5;28;01mreturn\u001b[39;00m _wrapreduction(a, np\u001b[38;5;241m.\u001b[39mminimum, \u001b[38;5;124m'\u001b[39m\u001b[38;5;124mmin\u001b[39m\u001b[38;5;124m'\u001b[39m, axis, \u001b[38;5;28;01mNone\u001b[39;00m, out,\n\u001b[0;32m   2954\u001b[0m                           keepdims\u001b[38;5;241m=\u001b[39mkeepdims, initial\u001b[38;5;241m=\u001b[39minitial, where\u001b[38;5;241m=\u001b[39mwhere)\n",
      "File \u001b[1;32m~\\anaconda3\\Lib\\site-packages\\numpy\\core\\fromnumeric.py:88\u001b[0m, in \u001b[0;36m_wrapreduction\u001b[1;34m(obj, ufunc, method, axis, dtype, out, **kwargs)\u001b[0m\n\u001b[0;32m     85\u001b[0m         \u001b[38;5;28;01melse\u001b[39;00m:\n\u001b[0;32m     86\u001b[0m             \u001b[38;5;28;01mreturn\u001b[39;00m reduction(axis\u001b[38;5;241m=\u001b[39maxis, out\u001b[38;5;241m=\u001b[39mout, \u001b[38;5;241m*\u001b[39m\u001b[38;5;241m*\u001b[39mpasskwargs)\n\u001b[1;32m---> 88\u001b[0m \u001b[38;5;28;01mreturn\u001b[39;00m ufunc\u001b[38;5;241m.\u001b[39mreduce(obj, axis, dtype, out, \u001b[38;5;241m*\u001b[39m\u001b[38;5;241m*\u001b[39mpasskwargs)\n",
      "\u001b[1;31mUFuncTypeError\u001b[0m: ufunc 'minimum' did not contain a loop with signature matching types (dtype('<U7'), dtype('<U7')) -> None"
     ]
    }
   ],
   "source": [
    "np.min(frutas)"
   ]
  },
  {
   "cell_type": "code",
   "execution_count": 46,
   "id": "1bf40e7e-1f05-4055-ab40-fc451cc4ddae",
   "metadata": {},
   "outputs": [
    {
     "data": {
      "text/plain": [
       "178.5"
      ]
     },
     "execution_count": 46,
     "metadata": {},
     "output_type": "execute_result"
    }
   ],
   "source": [
    "np.mean(alturas_cm)"
   ]
  },
  {
   "cell_type": "code",
   "execution_count": 48,
   "id": "847bfee5-c9ae-46e4-9e19-c0b25f2d4e44",
   "metadata": {},
   "outputs": [
    {
     "data": {
      "text/plain": [
       "3.7416573867739413"
      ]
     },
     "execution_count": 48,
     "metadata": {},
     "output_type": "execute_result"
    }
   ],
   "source": [
    "v = [1, 2, 3]\n",
    "w = [4, 5, 6]\n",
    "\n",
    "from math import sqrt\n",
    "sqrt(sum([vi**2 for vi in v]))\n"
   ]
  },
  {
   "cell_type": "code",
   "execution_count": 50,
   "id": "e990654f-0506-48de-90f0-2fbaf9908ed0",
   "metadata": {},
   "outputs": [
    {
     "data": {
      "text/plain": [
       "5.196152422706632"
      ]
     },
     "execution_count": 50,
     "metadata": {},
     "output_type": "execute_result"
    }
   ],
   "source": [
    "sqrt(sum([(vi - wi)**2 for vi, wi in zip(v, w)]))"
   ]
  },
  {
   "cell_type": "code",
   "execution_count": 52,
   "id": "7328d699-bdf1-4799-9278-39444d3adb8c",
   "metadata": {},
   "outputs": [
    {
     "data": {
      "text/plain": [
       "32"
      ]
     },
     "execution_count": 52,
     "metadata": {},
     "output_type": "execute_result"
    }
   ],
   "source": [
    "sum([vi * wi for vi, wi in zip(v, w)])\n"
   ]
  },
  {
   "cell_type": "code",
   "execution_count": 54,
   "id": "3caf25ea-bae1-4896-a3dc-fc4cee6b8b4f",
   "metadata": {},
   "outputs": [],
   "source": [
    "def todosPositivos(v): \n",
    "    return np.all(v > 0)"
   ]
  },
  {
   "cell_type": "code",
   "execution_count": 56,
   "id": "80fdf80b-71f4-4949-b0b9-e70ea591d9e3",
   "metadata": {},
   "outputs": [],
   "source": [
    "v0 = np.array([3, 4])"
   ]
  },
  {
   "cell_type": "code",
   "execution_count": 58,
   "id": "7cdb41c1-3cba-4829-aa32-6dde59667934",
   "metadata": {},
   "outputs": [],
   "source": [
    "v1 = np.array([3, 5, -1, 1])"
   ]
  },
  {
   "cell_type": "code",
   "execution_count": 60,
   "id": "d716ec8d-1172-4c6f-a6a7-82f24353825c",
   "metadata": {},
   "outputs": [
    {
     "ename": "AssertionError",
     "evalue": "No todos los elementos son positivos en v1",
     "output_type": "error",
     "traceback": [
      "\u001b[1;31m---------------------------------------------------------------------------\u001b[0m",
      "\u001b[1;31mAssertionError\u001b[0m                            Traceback (most recent call last)",
      "Cell \u001b[1;32mIn[60], line 2\u001b[0m\n\u001b[0;32m      1\u001b[0m \u001b[38;5;28;01mfor\u001b[39;00m i, v \u001b[38;5;129;01min\u001b[39;00m \u001b[38;5;28menumerate\u001b[39m([v0, v1]): \n\u001b[1;32m----> 2\u001b[0m     \u001b[38;5;28;01massert\u001b[39;00m todosPositivos(v), \u001b[38;5;124mf\u001b[39m\u001b[38;5;124m\"\u001b[39m\u001b[38;5;124mNo todos los elementos son positivos en v\u001b[39m\u001b[38;5;132;01m{\u001b[39;00mi\u001b[38;5;132;01m}\u001b[39;00m\u001b[38;5;124m\"\u001b[39m\n",
      "\u001b[1;31mAssertionError\u001b[0m: No todos los elementos son positivos en v1"
     ]
    }
   ],
   "source": [
    "for i, v in enumerate([v0, v1]): \n",
    "    assert todosPositivos(v), f\"No todos los elementos son positivos en v{i}\""
   ]
  },
  {
   "cell_type": "code",
   "execution_count": 62,
   "id": "4686f39a-776b-43c4-958c-00140ef3341a",
   "metadata": {},
   "outputs": [],
   "source": [
    "def norma2(v):\n",
    "    return sqrt(sum(x**2 for x in v))"
   ]
  },
  {
   "cell_type": "code",
   "execution_count": 64,
   "id": "8efcb3c5-3148-49ba-abdb-1278ee21cb31",
   "metadata": {},
   "outputs": [
    {
     "name": "stdout",
     "output_type": "stream",
     "text": [
      "Norma de v0: 5.0\n",
      "Norma de v1: 6.0\n"
     ]
    }
   ],
   "source": [
    "print(f\"Norma de v0: {norma2(v0)}\")  # Debería dar 5.0\n",
    "print(f\"Norma de v1: {norma2(v1)}\")  # Calcula sqrt(9 + 25 + 1 + 1) = sqrt(36) = 6.0"
   ]
  },
  {
   "cell_type": "code",
   "execution_count": 66,
   "id": "d342f3ab-5c13-4260-8ab1-6ccdd60d99e7",
   "metadata": {},
   "outputs": [
    {
     "data": {
      "text/plain": [
       "2"
      ]
     },
     "execution_count": 66,
     "metadata": {},
     "output_type": "execute_result"
    }
   ],
   "source": [
    "np.argmin(alturas_cm)"
   ]
  },
  {
   "cell_type": "code",
   "execution_count": 68,
   "id": "732f6de7-f223-4495-a8f1-cf3d32a0220a",
   "metadata": {},
   "outputs": [
    {
     "data": {
      "text/plain": [
       "3"
      ]
     },
     "execution_count": 68,
     "metadata": {},
     "output_type": "execute_result"
    }
   ],
   "source": [
    "np.argmax(alturas_cm)"
   ]
  },
  {
   "cell_type": "code",
   "execution_count": 70,
   "id": "4d541684-8ce1-41d8-932e-9b44cf158686",
   "metadata": {},
   "outputs": [
    {
     "name": "stdout",
     "output_type": "stream",
     "text": [
      "Índice del mínimo: 2\n",
      "Altura mínima: 154\n",
      "Índice del máximo: 3\n",
      "Altura máxima: 202\n"
     ]
    }
   ],
   "source": [
    "print(\"Índice del mínimo:\", np.argmin(alturas_cm))  # → 2\n",
    "print(\"Altura mínima:\", alturas_cm[np.argmin(alturas_cm)])  # → 154\n",
    "\n",
    "print(\"Índice del máximo:\", np.argmax(alturas_cm))  # → 3\n",
    "print(\"Altura máxima:\", alturas_cm[np.argmax(alturas_cm)])  # → 202\n"
   ]
  },
  {
   "cell_type": "code",
   "execution_count": 76,
   "id": "1c2a1308-35d7-46cf-bf8c-6db8d525b5ea",
   "metadata": {},
   "outputs": [
    {
     "data": {
      "text/plain": [
       "178"
      ]
     },
     "execution_count": 76,
     "metadata": {},
     "output_type": "execute_result"
    }
   ],
   "source": [
    "np.random.choice(alturas_cm)"
   ]
  },
  {
   "cell_type": "code",
   "execution_count": 104,
   "id": "ba26fc6b-6648-4bce-b612-ec233d52f203",
   "metadata": {},
   "outputs": [],
   "source": [
    "x = np.array([\"cara\", \"ceca\"]) "
   ]
  },
  {
   "cell_type": "code",
   "execution_count": 106,
   "id": "2c4c178e-09ba-43ff-b91c-fe8215e57bfb",
   "metadata": {},
   "outputs": [],
   "source": [
    "s = np.random.choice(x, size = 10)"
   ]
  },
  {
   "cell_type": "code",
   "execution_count": 108,
   "id": "fbecf29b-f55c-413c-ac12-0de47c1eae41",
   "metadata": {},
   "outputs": [
    {
     "name": "stdout",
     "output_type": "stream",
     "text": [
      "['cara' 'ceca' 'cara' 'ceca' 'cara' 'ceca' 'ceca' 'cara' 'ceca' 'ceca']\n"
     ]
    }
   ],
   "source": [
    "print(s)"
   ]
  },
  {
   "cell_type": "code",
   "execution_count": 90,
   "id": "f1b356b7-5c57-4312-b85a-1246f7d92f65",
   "metadata": {},
   "outputs": [
    {
     "name": "stdout",
     "output_type": "stream",
     "text": [
      "x = ['cara' 'ceca']\n"
     ]
    }
   ],
   "source": [
    "print(\"x =\", x)\n"
   ]
  },
  {
   "cell_type": "code",
   "execution_count": 92,
   "id": "f65cf8bf-ddc8-4d97-becc-acca06319774",
   "metadata": {},
   "outputs": [
    {
     "name": "stdout",
     "output_type": "stream",
     "text": [
      "Seed 0: ['cara' 'ceca' 'ceca' 'cara' 'ceca' 'ceca' 'ceca' 'ceca' 'ceca' 'ceca']\n",
      "Seed 1: ['ceca' 'ceca' 'cara' 'cara' 'ceca' 'ceca' 'ceca' 'ceca' 'ceca' 'cara']\n",
      "Seed 2: ['cara' 'ceca' 'ceca' 'cara' 'cara' 'ceca' 'cara' 'ceca' 'cara' 'ceca']\n",
      "Seed 3: ['cara' 'cara' 'ceca' 'ceca' 'cara' 'cara' 'cara' 'ceca' 'ceca' 'ceca']\n",
      "Seed 4: ['cara' 'cara' 'ceca' 'ceca' 'ceca' 'cara' 'ceca' 'cara' 'cara' 'ceca']\n"
     ]
    }
   ],
   "source": [
    "import numpy as np\n",
    "\n",
    "x = np.array([\"cara\", \"ceca\"])\n",
    "\n",
    "# Probá varias veces con distinta semilla\n",
    "for seed in range(5):\n",
    "    np.random.seed(seed)\n",
    "    s = np.random.choice(x, size=10)\n",
    "    print(f\"Seed {seed}: {s}\")\n"
   ]
  },
  {
   "cell_type": "code",
   "execution_count": 94,
   "id": "fff18666-c889-45da-8efa-c6864bbaa036",
   "metadata": {},
   "outputs": [],
   "source": [
    "x = np.array(\"cara\")  # ❌ Esto es un string, no una lista de strings"
   ]
  },
  {
   "cell_type": "code",
   "execution_count": 100,
   "id": "879c6060-0b4e-4adb-9797-452ba749a51f",
   "metadata": {},
   "outputs": [
    {
     "name": "stdout",
     "output_type": "stream",
     "text": [
      "[2 3 3 1 1 4 3 6 2 1]\n"
     ]
    }
   ],
   "source": [
    "y = np.array([1,2,3,4,5,6]) \n",
    "t = np.random.choice(y, size=10) \n",
    "print(t)"
   ]
  },
  {
   "cell_type": "code",
   "execution_count": 118,
   "id": "3f901c50-a668-4ec0-ae3b-ecb7c1646f77",
   "metadata": {},
   "outputs": [
    {
     "name": "stdout",
     "output_type": "stream",
     "text": [
      "[1 5 6 4]\n"
     ]
    }
   ],
   "source": [
    "u = np.random.choice(y, size=4, replace = False) \n",
    "print(u)"
   ]
  },
  {
   "cell_type": "code",
   "execution_count": 148,
   "id": "9b821f71-2627-4d7b-a841-f71054a21bbc",
   "metadata": {},
   "outputs": [
    {
     "name": "stdout",
     "output_type": "stream",
     "text": [
      "['c', 'a', 'd']\n"
     ]
    }
   ],
   "source": [
    "import random\n",
    "\n",
    "x = [\"a\", \"b\", \"c\", \"d\", \"e\"]\n",
    "muestra = random.sample(x, 3)\n",
    "print(muestra)\n"
   ]
  },
  {
   "cell_type": "code",
   "execution_count": 154,
   "id": "f65bb6c9-8249-4956-8221-2d49b9b2e5a1",
   "metadata": {},
   "outputs": [
    {
     "name": "stdout",
     "output_type": "stream",
     "text": [
      "Proporción de caras con 10 lanzamientos: 0.5000\n",
      "Proporción de caras con 1000 lanzamientos: 0.5030\n",
      "Proporción de caras con 100000 lanzamientos: 0.4979\n"
     ]
    }
   ],
   "source": [
    "def lanzar_monedas(n):\n",
    "    # 0 = ceca, 1 = cara\n",
    "    lanzamientos = np.random.choice([0, 1], size=n)\n",
    "    proporcion_caras = np.mean(lanzamientos)\n",
    "    return proporcion_caras\n",
    "\n",
    "# Simulaciones\n",
    "for n in [10, 1000, 100000]:\n",
    "    proporcion = lanzar_monedas(n)\n",
    "    print(f\"Proporción de caras con {n} lanzamientos: {proporcion:.4f}\")\n"
   ]
  },
  {
   "cell_type": "code",
   "execution_count": 156,
   "id": "decbb7d9-d968-4873-97a3-de86fc3ca78a",
   "metadata": {},
   "outputs": [
    {
     "data": {
      "image/png": "[encoded data removed]",
      "text/plain": [
       "<Figure size 1000x500 with 1 Axes>"
      ]
     },
     "metadata": {},
     "output_type": "display_data"
    }
   ],
   "source": [
    "import numpy as np\n",
    "import matplotlib.pyplot as plt\n",
    "\n",
    "# Simulación de lanzamientos\n",
    "n_lanzamientos = 100_000\n",
    "monedas = np.random.choice([0, 1], size=n_lanzamientos)  # 1 = cara\n",
    "\n",
    "# Calculamos la proporción acumulada de caras\n",
    "proporciones = np.cumsum(monedas) / np.arange(1, n_lanzamientos + 1)\n",
    "\n",
    "# Gráfico\n",
    "plt.figure(figsize=(10, 5))\n",
    "plt.plot(proporciones, label=\"Proporción de caras\")\n",
    "plt.axhline(0.5, color='red', linestyle='--', label=\"Valor esperado (0.5)\")\n",
    "plt.xlabel(\"Número de lanzamientos\")\n",
    "plt.ylabel(\"Proporción de caras\")\n",
    "plt.title(\"Ley de los grandes números\")\n",
    "plt.legend()\n",
    "plt.grid(True)\n",
    "plt.show()\n"
   ]
  },
  {
   "cell_type": "code",
   "execution_count": 160,
   "id": "6032ccdf-23e0-4507-bbc7-ef8e446cdefd",
   "metadata": {},
   "outputs": [
    {
     "name": "stdout",
     "output_type": "stream",
     "text": [
      "[0 0 1 ... 0 1 0]\n"
     ]
    }
   ],
   "source": [
    "n = 100_000\n",
    "moneda = np.random.choice([0, 1], size=n)  # 0 = ceca, 1 = cara\n",
    "\n",
    "caras = np.sum(moneda)\n",
    "cecas = n - caras\n",
    "print(moneda)"
   ]
  },
  {
   "cell_type": "code",
   "execution_count": 162,
   "id": "98983c9a-8e1a-45f6-b11f-3b6257aadd99",
   "metadata": {},
   "outputs": [
    {
     "name": "stdout",
     "output_type": "stream",
     "text": [
      "(a) Caras / Cecas: 1.0007\n"
     ]
    }
   ],
   "source": [
    "a = caras / cecas\n",
    "print(f\"(a) Caras / Cecas: {a:.4f}\")\n"
   ]
  },
  {
   "cell_type": "code",
   "execution_count": 170,
   "id": "a35a38f6-e7e3-4f03-9283-92894a94e06d",
   "metadata": {},
   "outputs": [
    {
     "name": "stdout",
     "output_type": "stream",
     "text": [
      "(b) Caras - Cecas: 34\n"
     ]
    }
   ],
   "source": [
    "b = caras - cecas\n",
    "print(f\"(b) Caras - Cecas: {b}\")\n"
   ]
  },
  {
   "cell_type": "code",
   "execution_count": 172,
   "id": "1697bfa5-6d60-4f3c-b4da-dc803fd532ff",
   "metadata": {},
   "outputs": [
    {
     "name": "stdout",
     "output_type": "stream",
     "text": [
      "(c) (Caras - Cecas) / n: 0.00034\n"
     ]
    }
   ],
   "source": [
    "c = (caras - cecas) / n\n",
    "print(f\"(c) (Caras - Cecas) / n: {c:.5f}\")\n"
   ]
  },
  {
   "cell_type": "code",
   "execution_count": 178,
   "id": "bcc340e3-1a7d-4181-a0ec-7e8460005983",
   "metadata": {},
   "outputs": [
    {
     "name": "stdout",
     "output_type": "stream",
     "text": [
      "(d) Proporción de caras después de 3 caras seguidas: 0.5028\n"
     ]
    }
   ],
   "source": [
    "contador = 0\n",
    "caras_despues_de_3_caras = 0\n",
    "\n",
    "for i in range(3, n - 1):\n",
    "    if moneda[i-3] == moneda[i-2] == moneda[i-1] == 1:\n",
    "        contador += 1\n",
    "        if moneda[i] == 1:\n",
    "            caras_despues_de_3_caras += 1\n",
    "\n",
    "if contador > 0:\n",
    "    d = caras_despues_de_3_caras / contador\n",
    "else:\n",
    "    d = None\n",
    "\n",
    "print(f\"(d) Proporción de caras después de 3 caras seguidas: {d:.4f}\" if d is not None else \"No hubo 3 caras seguidas\")\n"
   ]
  },
  {
   "cell_type": "code",
   "execution_count": 182,
   "id": "bfe8a414-5158-4d6f-9669-34dbec1a768d",
   "metadata": {},
   "outputs": [
    {
     "ename": "FileNotFoundError",
     "evalue": "[Errno 2] No such file or directory: '/Descargas/casos_coronavirus.csv'",
     "output_type": "error",
     "traceback": [
      "\u001b[1;31m---------------------------------------------------------------------------\u001b[0m",
      "\u001b[1;31mFileNotFoundError\u001b[0m                         Traceback (most recent call last)",
      "Cell \u001b[1;32mIn[182], line 4\u001b[0m\n\u001b[0;32m      1\u001b[0m \u001b[38;5;28;01mimport\u001b[39;00m \u001b[38;5;21;01mpandas\u001b[39;00m \u001b[38;5;28;01mas\u001b[39;00m \u001b[38;5;21;01mpd\u001b[39;00m \n\u001b[0;32m      2\u001b[0m \u001b[38;5;28;01mimport\u001b[39;00m \u001b[38;5;21;01mmatplotlib\u001b[39;00m\u001b[38;5;21;01m.\u001b[39;00m\u001b[38;5;21;01mpyplot\u001b[39;00m \u001b[38;5;28;01mas\u001b[39;00m \u001b[38;5;21;01mplt\u001b[39;00m \n\u001b[1;32m----> 4\u001b[0m df \u001b[38;5;241m=\u001b[39m pd\u001b[38;5;241m.\u001b[39mread_csv(\u001b[38;5;124m\"\u001b[39m\u001b[38;5;124m/Descargas/casos_coronavirus.csv\u001b[39m\u001b[38;5;124m\"\u001b[39m) \u001b[38;5;66;03m# dataFrame \u001b[39;00m\n\u001b[0;32m      5\u001b[0m df\u001b[38;5;241m.\u001b[39mhead() \n\u001b[0;32m      7\u001b[0m df\u001b[38;5;241m.\u001b[39minfo() \n",
      "File \u001b[1;32m~\\anaconda3\\Lib\\site-packages\\pandas\\io\\parsers\\readers.py:1026\u001b[0m, in \u001b[0;36mread_csv\u001b[1;34m(filepath_or_buffer, sep, delimiter, header, names, index_col, usecols, dtype, engine, converters, true_values, false_values, skipinitialspace, skiprows, skipfooter, nrows, na_values, keep_default_na, na_filter, verbose, skip_blank_lines, parse_dates, infer_datetime_format, keep_date_col, date_parser, date_format, dayfirst, cache_dates, iterator, chunksize, compression, thousands, decimal, lineterminator, quotechar, quoting, doublequote, escapechar, comment, encoding, encoding_errors, dialect, on_bad_lines, delim_whitespace, low_memory, memory_map, float_precision, storage_options, dtype_backend)\u001b[0m\n\u001b[0;32m   1013\u001b[0m kwds_defaults \u001b[38;5;241m=\u001b[39m _refine_defaults_read(\n\u001b[0;32m   1014\u001b[0m     dialect,\n\u001b[0;32m   1015\u001b[0m     delimiter,\n\u001b[1;32m   (...)\u001b[0m\n\u001b[0;32m   1022\u001b[0m     dtype_backend\u001b[38;5;241m=\u001b[39mdtype_backend,\n\u001b[0;32m   1023\u001b[0m )\n\u001b[0;32m   1024\u001b[0m kwds\u001b[38;5;241m.\u001b[39mupdate(kwds_defaults)\n\u001b[1;32m-> 1026\u001b[0m \u001b[38;5;28;01mreturn\u001b[39;00m _read(filepath_or_buffer, kwds)\n",
      "File \u001b[1;32m~\\anaconda3\\Lib\\site-packages\\pandas\\io\\parsers\\readers.py:620\u001b[0m, in \u001b[0;36m_read\u001b[1;34m(filepath_or_buffer, kwds)\u001b[0m\n\u001b[0;32m    617\u001b[0m _validate_names(kwds\u001b[38;5;241m.\u001b[39mget(\u001b[38;5;124m\"\u001b[39m\u001b[38;5;124mnames\u001b[39m\u001b[38;5;124m\"\u001b[39m, \u001b[38;5;28;01mNone\u001b[39;00m))\n\u001b[0;32m    619\u001b[0m \u001b[38;5;66;03m# Create the parser.\u001b[39;00m\n\u001b[1;32m--> 620\u001b[0m parser \u001b[38;5;241m=\u001b[39m TextFileReader(filepath_or_buffer, \u001b[38;5;241m*\u001b[39m\u001b[38;5;241m*\u001b[39mkwds)\n\u001b[0;32m    622\u001b[0m \u001b[38;5;28;01mif\u001b[39;00m chunksize \u001b[38;5;129;01mor\u001b[39;00m iterator:\n\u001b[0;32m    623\u001b[0m     \u001b[38;5;28;01mreturn\u001b[39;00m parser\n",
      "File \u001b[1;32m~\\anaconda3\\Lib\\site-packages\\pandas\\io\\parsers\\readers.py:1620\u001b[0m, in \u001b[0;36mTextFileReader.__init__\u001b[1;34m(self, f, engine, **kwds)\u001b[0m\n\u001b[0;32m   1617\u001b[0m     \u001b[38;5;28mself\u001b[39m\u001b[38;5;241m.\u001b[39moptions[\u001b[38;5;124m\"\u001b[39m\u001b[38;5;124mhas_index_names\u001b[39m\u001b[38;5;124m\"\u001b[39m] \u001b[38;5;241m=\u001b[39m kwds[\u001b[38;5;124m\"\u001b[39m\u001b[38;5;124mhas_index_names\u001b[39m\u001b[38;5;124m\"\u001b[39m]\n\u001b[0;32m   1619\u001b[0m \u001b[38;5;28mself\u001b[39m\u001b[38;5;241m.\u001b[39mhandles: IOHandles \u001b[38;5;241m|\u001b[39m \u001b[38;5;28;01mNone\u001b[39;00m \u001b[38;5;241m=\u001b[39m \u001b[38;5;28;01mNone\u001b[39;00m\n\u001b[1;32m-> 1620\u001b[0m \u001b[38;5;28mself\u001b[39m\u001b[38;5;241m.\u001b[39m_engine \u001b[38;5;241m=\u001b[39m \u001b[38;5;28mself\u001b[39m\u001b[38;5;241m.\u001b[39m_make_engine(f, \u001b[38;5;28mself\u001b[39m\u001b[38;5;241m.\u001b[39mengine)\n",
      "File \u001b[1;32m~\\anaconda3\\Lib\\site-packages\\pandas\\io\\parsers\\readers.py:1880\u001b[0m, in \u001b[0;36mTextFileReader._make_engine\u001b[1;34m(self, f, engine)\u001b[0m\n\u001b[0;32m   1878\u001b[0m     \u001b[38;5;28;01mif\u001b[39;00m \u001b[38;5;124m\"\u001b[39m\u001b[38;5;124mb\u001b[39m\u001b[38;5;124m\"\u001b[39m \u001b[38;5;129;01mnot\u001b[39;00m \u001b[38;5;129;01min\u001b[39;00m mode:\n\u001b[0;32m   1879\u001b[0m         mode \u001b[38;5;241m+\u001b[39m\u001b[38;5;241m=\u001b[39m \u001b[38;5;124m\"\u001b[39m\u001b[38;5;124mb\u001b[39m\u001b[38;5;124m\"\u001b[39m\n\u001b[1;32m-> 1880\u001b[0m \u001b[38;5;28mself\u001b[39m\u001b[38;5;241m.\u001b[39mhandles \u001b[38;5;241m=\u001b[39m get_handle(\n\u001b[0;32m   1881\u001b[0m     f,\n\u001b[0;32m   1882\u001b[0m     mode,\n\u001b[0;32m   1883\u001b[0m     encoding\u001b[38;5;241m=\u001b[39m\u001b[38;5;28mself\u001b[39m\u001b[38;5;241m.\u001b[39moptions\u001b[38;5;241m.\u001b[39mget(\u001b[38;5;124m\"\u001b[39m\u001b[38;5;124mencoding\u001b[39m\u001b[38;5;124m\"\u001b[39m, \u001b[38;5;28;01mNone\u001b[39;00m),\n\u001b[0;32m   1884\u001b[0m     compression\u001b[38;5;241m=\u001b[39m\u001b[38;5;28mself\u001b[39m\u001b[38;5;241m.\u001b[39moptions\u001b[38;5;241m.\u001b[39mget(\u001b[38;5;124m\"\u001b[39m\u001b[38;5;124mcompression\u001b[39m\u001b[38;5;124m\"\u001b[39m, \u001b[38;5;28;01mNone\u001b[39;00m),\n\u001b[0;32m   1885\u001b[0m     memory_map\u001b[38;5;241m=\u001b[39m\u001b[38;5;28mself\u001b[39m\u001b[38;5;241m.\u001b[39moptions\u001b[38;5;241m.\u001b[39mget(\u001b[38;5;124m\"\u001b[39m\u001b[38;5;124mmemory_map\u001b[39m\u001b[38;5;124m\"\u001b[39m, \u001b[38;5;28;01mFalse\u001b[39;00m),\n\u001b[0;32m   1886\u001b[0m     is_text\u001b[38;5;241m=\u001b[39mis_text,\n\u001b[0;32m   1887\u001b[0m     errors\u001b[38;5;241m=\u001b[39m\u001b[38;5;28mself\u001b[39m\u001b[38;5;241m.\u001b[39moptions\u001b[38;5;241m.\u001b[39mget(\u001b[38;5;124m\"\u001b[39m\u001b[38;5;124mencoding_errors\u001b[39m\u001b[38;5;124m\"\u001b[39m, \u001b[38;5;124m\"\u001b[39m\u001b[38;5;124mstrict\u001b[39m\u001b[38;5;124m\"\u001b[39m),\n\u001b[0;32m   1888\u001b[0m     storage_options\u001b[38;5;241m=\u001b[39m\u001b[38;5;28mself\u001b[39m\u001b[38;5;241m.\u001b[39moptions\u001b[38;5;241m.\u001b[39mget(\u001b[38;5;124m\"\u001b[39m\u001b[38;5;124mstorage_options\u001b[39m\u001b[38;5;124m\"\u001b[39m, \u001b[38;5;28;01mNone\u001b[39;00m),\n\u001b[0;32m   1889\u001b[0m )\n\u001b[0;32m   1890\u001b[0m \u001b[38;5;28;01massert\u001b[39;00m \u001b[38;5;28mself\u001b[39m\u001b[38;5;241m.\u001b[39mhandles \u001b[38;5;129;01mis\u001b[39;00m \u001b[38;5;129;01mnot\u001b[39;00m \u001b[38;5;28;01mNone\u001b[39;00m\n\u001b[0;32m   1891\u001b[0m f \u001b[38;5;241m=\u001b[39m \u001b[38;5;28mself\u001b[39m\u001b[38;5;241m.\u001b[39mhandles\u001b[38;5;241m.\u001b[39mhandle\n",
      "File \u001b[1;32m~\\anaconda3\\Lib\\site-packages\\pandas\\io\\common.py:873\u001b[0m, in \u001b[0;36mget_handle\u001b[1;34m(path_or_buf, mode, encoding, compression, memory_map, is_text, errors, storage_options)\u001b[0m\n\u001b[0;32m    868\u001b[0m \u001b[38;5;28;01melif\u001b[39;00m \u001b[38;5;28misinstance\u001b[39m(handle, \u001b[38;5;28mstr\u001b[39m):\n\u001b[0;32m    869\u001b[0m     \u001b[38;5;66;03m# Check whether the filename is to be opened in binary mode.\u001b[39;00m\n\u001b[0;32m    870\u001b[0m     \u001b[38;5;66;03m# Binary mode does not support 'encoding' and 'newline'.\u001b[39;00m\n\u001b[0;32m    871\u001b[0m     \u001b[38;5;28;01mif\u001b[39;00m ioargs\u001b[38;5;241m.\u001b[39mencoding \u001b[38;5;129;01mand\u001b[39;00m \u001b[38;5;124m\"\u001b[39m\u001b[38;5;124mb\u001b[39m\u001b[38;5;124m\"\u001b[39m \u001b[38;5;129;01mnot\u001b[39;00m \u001b[38;5;129;01min\u001b[39;00m ioargs\u001b[38;5;241m.\u001b[39mmode:\n\u001b[0;32m    872\u001b[0m         \u001b[38;5;66;03m# Encoding\u001b[39;00m\n\u001b[1;32m--> 873\u001b[0m         handle \u001b[38;5;241m=\u001b[39m \u001b[38;5;28mopen\u001b[39m(\n\u001b[0;32m    874\u001b[0m             handle,\n\u001b[0;32m    875\u001b[0m             ioargs\u001b[38;5;241m.\u001b[39mmode,\n\u001b[0;32m    876\u001b[0m             encoding\u001b[38;5;241m=\u001b[39mioargs\u001b[38;5;241m.\u001b[39mencoding,\n\u001b[0;32m    877\u001b[0m             errors\u001b[38;5;241m=\u001b[39merrors,\n\u001b[0;32m    878\u001b[0m             newline\u001b[38;5;241m=\u001b[39m\u001b[38;5;124m\"\u001b[39m\u001b[38;5;124m\"\u001b[39m,\n\u001b[0;32m    879\u001b[0m         )\n\u001b[0;32m    880\u001b[0m     \u001b[38;5;28;01melse\u001b[39;00m:\n\u001b[0;32m    881\u001b[0m         \u001b[38;5;66;03m# Binary mode\u001b[39;00m\n\u001b[0;32m    882\u001b[0m         handle \u001b[38;5;241m=\u001b[39m \u001b[38;5;28mopen\u001b[39m(handle, ioargs\u001b[38;5;241m.\u001b[39mmode)\n",
      "\u001b[1;31mFileNotFoundError\u001b[0m: [Errno 2] No such file or directory: '/Descargas/casos_coronavirus.csv'"
     ]
    }
   ],
   "source": [
    "import pandas as pd \n",
    "import matplotlib.pyplot as plt \n",
    "\n",
    "df = pd.read_csv(\"/Descargas/casos_coronavirus.csv\") # dataFrame \n",
    "df.head() \n",
    "\n",
    "df.info() \n",
    "\n",
    "# Convertimos la columna de casos nuevos a np.array 6\n",
    "casos_diarios = df.confirmados_Nuevos.values \n",
    "# Graficamos la serie de casos diarios \n",
    "plt.plot(casos_diarios) \n",
    "\n",
    "# Calculamos la cantidad de casos acumulados con la funcion cumsum \n",
    "cum_casos = casos_diarios.cumsum() \n",
    "plt.plot(cum_casos) \n",
    "plt.show() \n",
    "\n",
    "# Tomamos logaritmos para linealizar (convertimos los datos primero a float para poder tomar logaritmo) \n",
    "plt.plot(np.log(np.float64(cum_casos))) \n",
    "plt.show() \n",
    "\n",
    "# Alternativamente, podemos mantener los datos \"al natural\" y cambiar la _escala_ del eje y. \n",
    "plt.plot(cum_casos), plt.yscale(\"log\") \n",
    "plt.show()"
   ]
  },
  {
   "cell_type": "code",
   "execution_count": 35,
   "id": "3551153c-bf42-4c7c-9867-6d95e8eb0fcd",
   "metadata": {},
   "outputs": [],
   "source": [
    "import numpy as np\n",
    "import pandas as pd\n",
    "import matplotlib.pyplot as plt\n"
   ]
  },
  {
   "cell_type": "code",
   "execution_count": 31,
   "id": "ed1639ac-7491-44d8-aa99-54049c55c0b6",
   "metadata": {},
   "outputs": [
    {
     "data": {
      "text/html": [
       "<div>\n",
       "<style scoped>\n",
       "    .dataframe tbody tr th:only-of-type {\n",
       "        vertical-align: middle;\n",
       "    }\n",
       "\n",
       "    .dataframe tbody tr th {\n",
       "        vertical-align: top;\n",
       "    }\n",
       "\n",
       "    .dataframe thead th {\n",
       "        text-align: right;\n",
       "    }\n",
       "</style>\n",
       "<table border=\"1\" class=\"dataframe\">\n",
       "  <thead>\n",
       "    <tr style=\"text-align: right;\">\n",
       "      <th></th>\n",
       "      <th>fecha</th>\n",
       "      <th>confirmados_Nuevos</th>\n",
       "    </tr>\n",
       "  </thead>\n",
       "  <tbody>\n",
       "    <tr>\n",
       "      <th>0</th>\n",
       "      <td>3-3-2020</td>\n",
       "      <td>1</td>\n",
       "    </tr>\n",
       "    <tr>\n",
       "      <th>1</th>\n",
       "      <td>4-3-2020</td>\n",
       "      <td>0</td>\n",
       "    </tr>\n",
       "    <tr>\n",
       "      <th>2</th>\n",
       "      <td>5-3-2020</td>\n",
       "      <td>1</td>\n",
       "    </tr>\n",
       "    <tr>\n",
       "      <th>3</th>\n",
       "      <td>6-3-2020</td>\n",
       "      <td>6</td>\n",
       "    </tr>\n",
       "    <tr>\n",
       "      <th>4</th>\n",
       "      <td>7-3-2020</td>\n",
       "      <td>0</td>\n",
       "    </tr>\n",
       "  </tbody>\n",
       "</table>\n",
       "</div>"
      ],
      "text/plain": [
       "      fecha  confirmados_Nuevos\n",
       "0  3-3-2020                   1\n",
       "1  4-3-2020                   0\n",
       "2  5-3-2020                   1\n",
       "3  6-3-2020                   6\n",
       "4  7-3-2020                   0"
      ]
     },
     "execution_count": 31,
     "metadata": {},
     "output_type": "execute_result"
    }
   ],
   "source": [
    "df = pd.read_csv(r\"C:\\Users\\Usuario\\Downloads\\casos_coronavirus.csv\")\n",
    "df.head()"
   ]
  },
  {
   "cell_type": "code",
   "execution_count": 21,
   "id": "34c0d51b-96d3-4431-b83f-44c78a857d64",
   "metadata": {},
   "outputs": [
    {
     "name": "stdout",
     "output_type": "stream",
     "text": [
      "<class 'pandas.core.frame.DataFrame'>\n",
      "RangeIndex: 96 entries, 0 to 95\n",
      "Data columns (total 2 columns):\n",
      " #   Column              Non-Null Count  Dtype \n",
      "---  ------              --------------  ----- \n",
      " 0   fecha               96 non-null     object\n",
      " 1   confirmados_Nuevos  96 non-null     int64 \n",
      "dtypes: int64(1), object(1)\n",
      "memory usage: 1.6+ KB\n"
     ]
    }
   ],
   "source": [
    "df.info()"
   ]
  },
  {
   "cell_type": "code",
   "execution_count": 23,
   "id": "cf96e273-01df-4390-a352-1073613284f3",
   "metadata": {},
   "outputs": [],
   "source": [
    "#%% Convertimos la columna de casos nuevos a np.array\n",
    "casos_diarios = df.confirmados_Nuevos.values\n"
   ]
  },
  {
   "cell_type": "code",
   "execution_count": 25,
   "id": "eb317cd0-1e9c-4db3-bb66-adc05dafb32a",
   "metadata": {},
   "outputs": [
    {
     "data": {
      "text/plain": [
       "[<matplotlib.lines.Line2D at 0x253a22d7b30>]"
      ]
     },
     "execution_count": 25,
     "metadata": {},
     "output_type": "execute_result"
    },
    {
     "data": {
      "image/png": "[encoded data removed]",
      "text/plain": [
       "<Figure size 640x480 with 1 Axes>"
      ]
     },
     "metadata": {},
     "output_type": "display_data"
    }
   ],
   "source": [
    "#%% Graficamos la serie de casos diarios\n",
    "plt.plot(casos_diarios)\n"
   ]
  },
  {
   "cell_type": "code",
   "execution_count": 27,
   "id": "b6b1bfa1-d080-4c58-91ab-c213eb6e543a",
   "metadata": {},
   "outputs": [
    {
     "data": {
      "image/png": "[encoded data removed]",
      "text/plain": [
       "<Figure size 640x480 with 1 Axes>"
      ]
     },
     "metadata": {},
     "output_type": "display_data"
    }
   ],
   "source": [
    "# %% Calculamos la cantidad de casos acumulados con la funcion cumsum\n",
    "cum_casos = casos_diarios.cumsum()\n",
    "plt.plot(cum_casos)\n",
    "plt.show()"
   ]
  },
  {
   "cell_type": "code",
   "execution_count": 37,
   "id": "e90348e9-3f0c-468d-953a-1d3fe4a9d565",
   "metadata": {},
   "outputs": [
    {
     "data": {
      "text/plain": [
       "[<matplotlib.lines.Line2D at 0x253a260a8d0>]"
      ]
     },
     "execution_count": 37,
     "metadata": {},
     "output_type": "execute_result"
    },
    {
     "data": {
      "image/png": "[encoded data removed]",
      "text/plain": [
       "<Figure size 640x480 with 1 Axes>"
      ]
     },
     "metadata": {},
     "output_type": "display_data"
    }
   ],
   "source": [
    "# %% Tomamos logaritmos para linealizar (convertimos los datos primero a float\n",
    "#    para poder tomar logaritmo)\n",
    "plt.plot(np.log(np.float64(cum_casos)))\n"
   ]
  },
  {
   "cell_type": "code",
   "execution_count": 39,
   "id": "927684b1-3374-4352-bef5-720df65cd33e",
   "metadata": {},
   "outputs": [
    {
     "data": {
      "image/png": "[encoded data removed]",
      "text/plain": [
       "<Figure size 640x480 with 1 Axes>"
      ]
     },
     "metadata": {},
     "output_type": "display_data"
    }
   ],
   "source": [
    "#%% Alternativamente, podemos mantener los datos \"al natural\" y cambiar la\n",
    "#   _escala_ del eje y\n",
    "plt.plot(cum_casos), plt.yscale(\"log\")\n",
    "plt.show()"
   ]
  },
  {
   "cell_type": "code",
   "execution_count": null,
   "id": "61cc0cc8-e845-4f3e-92fb-12850a4331cf",
   "metadata": {},
   "outputs": [],
   "source": []
  }
 ],
 "metadata": {
  "kernelspec": {
   "display_name": "Python [conda env:base] *",
   "language": "python",
   "name": "conda-base-py"
  },
  "language_info": {
   "codemirror_mode": {
    "name": "ipython",
    "version": 3
   },
   "file_extension": ".py",
   "mimetype": "text/x-python",
   "name": "python",
   "nbconvert_exporter": "python",
   "pygments_lexer": "ipython3",
   "version": "3.12.7"
  }
 },
 "nbformat": 4,
 "nbformat_minor": 5
}
